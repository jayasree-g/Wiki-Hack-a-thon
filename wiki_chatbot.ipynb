{
  "nbformat": 4,
  "nbformat_minor": 0,
  "metadata": {
    "colab": {
      "provenance": []
    },
    "kernelspec": {
      "name": "python3",
      "display_name": "Python 3"
    },
    "language_info": {
      "name": "python"
    }
  },
  "cells": [
    {
      "cell_type": "code",
      "source": [
        "!python -m spacy download en_core_web_md\n",
        "\n",
        "from google.colab import drive\n",
        "drive.mount('/content/drive')"
      ],
      "metadata": {
        "colab": {
          "base_uri": "https://localhost:8080/"
        },
        "id": "psOXjvcKpElA",
        "outputId": "50c084fa-c1fd-4672-d929-b0b172adc2bf"
      },
      "execution_count": 84,
      "outputs": [
        {
          "output_type": "stream",
          "name": "stdout",
          "text": [
            "Collecting en-core-web-md==3.7.1\n",
            "  Downloading https://github.com/explosion/spacy-models/releases/download/en_core_web_md-3.7.1/en_core_web_md-3.7.1-py3-none-any.whl (42.8 MB)\n",
            "\u001b[2K     \u001b[90m━━━━━━━━━━━━━━━━━━━━━━━━━━━━━━━━━━━━━━━━\u001b[0m \u001b[32m42.8/42.8 MB\u001b[0m \u001b[31m12.7 MB/s\u001b[0m eta \u001b[36m0:00:00\u001b[0m\n",
            "\u001b[?25hRequirement already satisfied: spacy<3.8.0,>=3.7.2 in /usr/local/lib/python3.10/dist-packages (from en-core-web-md==3.7.1) (3.7.4)\n",
            "Requirement already satisfied: spacy-legacy<3.1.0,>=3.0.11 in /usr/local/lib/python3.10/dist-packages (from spacy<3.8.0,>=3.7.2->en-core-web-md==3.7.1) (3.0.12)\n",
            "Requirement already satisfied: spacy-loggers<2.0.0,>=1.0.0 in /usr/local/lib/python3.10/dist-packages (from spacy<3.8.0,>=3.7.2->en-core-web-md==3.7.1) (1.0.5)\n",
            "Requirement already satisfied: murmurhash<1.1.0,>=0.28.0 in /usr/local/lib/python3.10/dist-packages (from spacy<3.8.0,>=3.7.2->en-core-web-md==3.7.1) (1.0.10)\n",
            "Requirement already satisfied: cymem<2.1.0,>=2.0.2 in /usr/local/lib/python3.10/dist-packages (from spacy<3.8.0,>=3.7.2->en-core-web-md==3.7.1) (2.0.8)\n",
            "Requirement already satisfied: preshed<3.1.0,>=3.0.2 in /usr/local/lib/python3.10/dist-packages (from spacy<3.8.0,>=3.7.2->en-core-web-md==3.7.1) (3.0.9)\n",
            "Requirement already satisfied: thinc<8.3.0,>=8.2.2 in /usr/local/lib/python3.10/dist-packages (from spacy<3.8.0,>=3.7.2->en-core-web-md==3.7.1) (8.2.3)\n",
            "Requirement already satisfied: wasabi<1.2.0,>=0.9.1 in /usr/local/lib/python3.10/dist-packages (from spacy<3.8.0,>=3.7.2->en-core-web-md==3.7.1) (1.1.2)\n",
            "Requirement already satisfied: srsly<3.0.0,>=2.4.3 in /usr/local/lib/python3.10/dist-packages (from spacy<3.8.0,>=3.7.2->en-core-web-md==3.7.1) (2.4.8)\n",
            "Requirement already satisfied: catalogue<2.1.0,>=2.0.6 in /usr/local/lib/python3.10/dist-packages (from spacy<3.8.0,>=3.7.2->en-core-web-md==3.7.1) (2.0.10)\n",
            "Requirement already satisfied: weasel<0.4.0,>=0.1.0 in /usr/local/lib/python3.10/dist-packages (from spacy<3.8.0,>=3.7.2->en-core-web-md==3.7.1) (0.3.4)\n",
            "Requirement already satisfied: typer<0.10.0,>=0.3.0 in /usr/local/lib/python3.10/dist-packages (from spacy<3.8.0,>=3.7.2->en-core-web-md==3.7.1) (0.9.0)\n",
            "Requirement already satisfied: smart-open<7.0.0,>=5.2.1 in /usr/local/lib/python3.10/dist-packages (from spacy<3.8.0,>=3.7.2->en-core-web-md==3.7.1) (6.4.0)\n",
            "Requirement already satisfied: tqdm<5.0.0,>=4.38.0 in /usr/local/lib/python3.10/dist-packages (from spacy<3.8.0,>=3.7.2->en-core-web-md==3.7.1) (4.66.2)\n",
            "Requirement already satisfied: requests<3.0.0,>=2.13.0 in /usr/local/lib/python3.10/dist-packages (from spacy<3.8.0,>=3.7.2->en-core-web-md==3.7.1) (2.31.0)\n",
            "Requirement already satisfied: pydantic!=1.8,!=1.8.1,<3.0.0,>=1.7.4 in /usr/local/lib/python3.10/dist-packages (from spacy<3.8.0,>=3.7.2->en-core-web-md==3.7.1) (2.6.3)\n",
            "Requirement already satisfied: jinja2 in /usr/local/lib/python3.10/dist-packages (from spacy<3.8.0,>=3.7.2->en-core-web-md==3.7.1) (3.1.3)\n",
            "Requirement already satisfied: setuptools in /usr/local/lib/python3.10/dist-packages (from spacy<3.8.0,>=3.7.2->en-core-web-md==3.7.1) (67.7.2)\n",
            "Requirement already satisfied: packaging>=20.0 in /usr/local/lib/python3.10/dist-packages (from spacy<3.8.0,>=3.7.2->en-core-web-md==3.7.1) (23.2)\n",
            "Requirement already satisfied: langcodes<4.0.0,>=3.2.0 in /usr/local/lib/python3.10/dist-packages (from spacy<3.8.0,>=3.7.2->en-core-web-md==3.7.1) (3.3.0)\n",
            "Requirement already satisfied: numpy>=1.19.0 in /usr/local/lib/python3.10/dist-packages (from spacy<3.8.0,>=3.7.2->en-core-web-md==3.7.1) (1.25.2)\n",
            "Requirement already satisfied: annotated-types>=0.4.0 in /usr/local/lib/python3.10/dist-packages (from pydantic!=1.8,!=1.8.1,<3.0.0,>=1.7.4->spacy<3.8.0,>=3.7.2->en-core-web-md==3.7.1) (0.6.0)\n",
            "Requirement already satisfied: pydantic-core==2.16.3 in /usr/local/lib/python3.10/dist-packages (from pydantic!=1.8,!=1.8.1,<3.0.0,>=1.7.4->spacy<3.8.0,>=3.7.2->en-core-web-md==3.7.1) (2.16.3)\n",
            "Requirement already satisfied: typing-extensions>=4.6.1 in /usr/local/lib/python3.10/dist-packages (from pydantic!=1.8,!=1.8.1,<3.0.0,>=1.7.4->spacy<3.8.0,>=3.7.2->en-core-web-md==3.7.1) (4.10.0)\n",
            "Requirement already satisfied: charset-normalizer<4,>=2 in /usr/local/lib/python3.10/dist-packages (from requests<3.0.0,>=2.13.0->spacy<3.8.0,>=3.7.2->en-core-web-md==3.7.1) (3.3.2)\n",
            "Requirement already satisfied: idna<4,>=2.5 in /usr/local/lib/python3.10/dist-packages (from requests<3.0.0,>=2.13.0->spacy<3.8.0,>=3.7.2->en-core-web-md==3.7.1) (2.10)\n",
            "Requirement already satisfied: urllib3<3,>=1.21.1 in /usr/local/lib/python3.10/dist-packages (from requests<3.0.0,>=2.13.0->spacy<3.8.0,>=3.7.2->en-core-web-md==3.7.1) (2.0.7)\n",
            "Requirement already satisfied: certifi>=2017.4.17 in /usr/local/lib/python3.10/dist-packages (from requests<3.0.0,>=2.13.0->spacy<3.8.0,>=3.7.2->en-core-web-md==3.7.1) (2024.2.2)\n",
            "Requirement already satisfied: blis<0.8.0,>=0.7.8 in /usr/local/lib/python3.10/dist-packages (from thinc<8.3.0,>=8.2.2->spacy<3.8.0,>=3.7.2->en-core-web-md==3.7.1) (0.7.11)\n",
            "Requirement already satisfied: confection<1.0.0,>=0.0.1 in /usr/local/lib/python3.10/dist-packages (from thinc<8.3.0,>=8.2.2->spacy<3.8.0,>=3.7.2->en-core-web-md==3.7.1) (0.1.4)\n",
            "Requirement already satisfied: click<9.0.0,>=7.1.1 in /usr/local/lib/python3.10/dist-packages (from typer<0.10.0,>=0.3.0->spacy<3.8.0,>=3.7.2->en-core-web-md==3.7.1) (8.1.7)\n",
            "Requirement already satisfied: cloudpathlib<0.17.0,>=0.7.0 in /usr/local/lib/python3.10/dist-packages (from weasel<0.4.0,>=0.1.0->spacy<3.8.0,>=3.7.2->en-core-web-md==3.7.1) (0.16.0)\n",
            "Requirement already satisfied: MarkupSafe>=2.0 in /usr/local/lib/python3.10/dist-packages (from jinja2->spacy<3.8.0,>=3.7.2->en-core-web-md==3.7.1) (2.1.5)\n",
            "\u001b[38;5;2m✔ Download and installation successful\u001b[0m\n",
            "You can now load the package via spacy.load('en_core_web_md')\n",
            "\u001b[38;5;3m⚠ Restart to reload dependencies\u001b[0m\n",
            "If you are in a Jupyter or Colab notebook, you may need to restart Python in\n",
            "order to load all the package's dependencies. You can do this by selecting the\n",
            "'Restart kernel' or 'Restart runtime' option.\n",
            "Drive already mounted at /content/drive; to attempt to forcibly remount, call drive.mount(\"/content/drive\", force_remount=True).\n"
          ]
        }
      ]
    },
    {
      "cell_type": "code",
      "source": [
        "pip install langdetect"
      ],
      "metadata": {
        "id": "dfd37IuheDZ5",
        "colab": {
          "base_uri": "https://localhost:8080/"
        },
        "outputId": "943dde6f-34d0-4dd6-825f-05009f2380dc"
      },
      "execution_count": 85,
      "outputs": [
        {
          "output_type": "stream",
          "name": "stdout",
          "text": [
            "Requirement already satisfied: langdetect in /usr/local/lib/python3.10/dist-packages (1.0.9)\n",
            "Requirement already satisfied: six in /usr/local/lib/python3.10/dist-packages (from langdetect) (1.16.0)\n"
          ]
        }
      ]
    },
    {
      "cell_type": "code",
      "source": [
        "data_root='/content/drive/My Drive/wiki'\n",
        "data_file=open(data_root+'/intents-final.json').read()"
      ],
      "metadata": {
        "id": "JnO4iVJ5pcwU"
      },
      "execution_count": 86,
      "outputs": []
    },
    {
      "cell_type": "code",
      "source": [
        "import requests\n",
        "\n",
        "url = \"https://google-translation-unlimited.p.rapidapi.com/translate\"\n",
        "\n",
        "headers = {\n",
        "\t\"content-type\": \"application/x-www-form-urlencoded\",\n",
        "\t\"X-RapidAPI-Key\": RapidAPI-key,\n",
        "\t\"X-RapidAPI-Host\": \"google-translation-unlimited.p.rapidapi.com\"\n",
        "}"
      ],
      "metadata": {
        "id": "GdXhfY2o9UtD"
      },
      "execution_count": 87,
      "outputs": []
    },
    {
      "cell_type": "code",
      "source": [
        "from langdetect import detect\n",
        "\n",
        "def translate_lang(text, lang):\n",
        "    try:\n",
        "        payload = {\n",
        "          \"texte\": text,\n",
        "          \"to_lang\": lang\n",
        "          }\n",
        "        translation = requests.post(url, data=payload, headers=headers).json()['translation_data']['translation']\n",
        "        return translation\n",
        "    except Exception as e:\n",
        "        print(\"Error:\", e)\n",
        "        return None"
      ],
      "metadata": {
        "id": "YzUL6MhceM5I"
      },
      "execution_count": 88,
      "outputs": []
    },
    {
      "cell_type": "code",
      "source": [
        "import nltk\n",
        "from nltk.corpus import stopwords\n",
        "from nltk.tokenize import word_tokenize\n",
        "from nltk.stem import WordNetLemmatizer\n",
        "from sklearn.feature_extraction.text import TfidfVectorizer\n",
        "from sklearn.metrics.pairwise import cosine_similarity\n",
        "\n",
        "nltk.download('punkt')\n",
        "nltk.download('stopwords')\n",
        "nltk.download('wordnet')"
      ],
      "metadata": {
        "colab": {
          "base_uri": "https://localhost:8080/"
        },
        "id": "5iSxtrQ0BqON",
        "outputId": "1fb792d6-42c7-4000-a251-d408bc014a48"
      },
      "execution_count": 89,
      "outputs": [
        {
          "output_type": "stream",
          "name": "stderr",
          "text": [
            "[nltk_data] Downloading package punkt to /root/nltk_data...\n",
            "[nltk_data]   Package punkt is already up-to-date!\n",
            "[nltk_data] Downloading package stopwords to /root/nltk_data...\n",
            "[nltk_data]   Package stopwords is already up-to-date!\n",
            "[nltk_data] Downloading package wordnet to /root/nltk_data...\n",
            "[nltk_data]   Package wordnet is already up-to-date!\n"
          ]
        },
        {
          "output_type": "execute_result",
          "data": {
            "text/plain": [
              "True"
            ]
          },
          "metadata": {},
          "execution_count": 89
        }
      ]
    },
    {
      "cell_type": "code",
      "source": [
        "def preprocess_text(text):\n",
        "    tokens = word_tokenize(text.lower())\n",
        "    stop_words = set(stopwords.words('english'))\n",
        "    tokens = [word for word in tokens if word not in stop_words]\n",
        "    lemmatizer = WordNetLemmatizer()\n",
        "    tokens = [lemmatizer.lemmatize(word) for word in tokens]\n",
        "    preprocessed_text = ' '.join(tokens)\n",
        "    return preprocessed_text\n",
        "\n",
        "def calculate_similarity(text1, text2):\n",
        "    processed_text1 = preprocess_text(text1)\n",
        "    processed_text2 = preprocess_text(text2)\n",
        "\n",
        "    processed_texts = [processed_text1, processed_text2]\n",
        "\n",
        "    vectorizer = TfidfVectorizer()\n",
        "    tfidf_matrix = vectorizer.fit_transform(processed_texts)\n",
        "\n",
        "    similarity_matrix = cosine_similarity(tfidf_matrix)\n",
        "\n",
        "    similarity_score = similarity_matrix[0][1]\n",
        "    return similarity_score\n"
      ],
      "metadata": {
        "id": "ww90mbHCAHTG"
      },
      "execution_count": 90,
      "outputs": []
    },
    {
      "cell_type": "code",
      "execution_count": 92,
      "metadata": {
        "colab": {
          "base_uri": "https://localhost:8080/"
        },
        "id": "8WTpz9qlo2dc",
        "outputId": "18436b45-5e12-48c6-e9b4-11e29ddadec5"
      },
      "outputs": [
        {
          "output_type": "stream",
          "name": "stdout",
          "text": [
            "Hello! Welcome to the Wikipedia editing support chatbot.\n",
            "You: hey, can you help me edit a page?\n",
            "Bot: To edit the whole page, click the 'edit' tab at the top. To edit just one section, click the 'edit' link to the right of the section heading.\n",
            "You: పేజీని ఎలా తొలగించాలి?\n",
            "en\n",
            "How to delete the page? heyy\n",
            "te\n",
            "పేజీ తొలగింపులపై సూచనల కోసం వికీపీడియా: తొలగింపు విధానాన్ని చూడండి.వ్యాసాలు సాధారణంగా వికీపీడియాలో నామినేట్ చేయబడతాయి: తొలగింపు కోసం వ్యాసాలు. heyy\n",
            "Bot: పేజీ తొలగింపులపై సూచనల కోసం వికీపీడియా: తొలగింపు విధానాన్ని చూడండి.వ్యాసాలు సాధారణంగా వికీపీడియాలో నామినేట్ చేయబడతాయి: తొలగింపు కోసం వ్యాసాలు.\n",
            "You: నేను వచనాన్ని బోల్డ్ లేదా ఇటాలిక్ ఎలా చేయాలి?\n",
            "en\n",
            "How do I do the text bold or italic? heyy\n",
            "te\n",
            "టూల్‌బార్‌లోని B మరియు I బటన్లను ఉపయోగించి వచనాన్ని బోల్డ్ లేదా ఇటాలిక్ చేయవచ్చు.ప్రత్యామ్నాయంగా, మీరు 'అపోస్ట్రోఫెస్' మధ్య వచనాన్ని ఉంచవచ్చు;ప్రతి వైపు మూడు బోల్డ్ కోసం మరియు ఇటాలిక్స్ కోసం ప్రతి వైపు రెండు. heyy\n",
            "Bot: టూల్‌బార్‌లోని B మరియు I బటన్లను ఉపయోగించి వచనాన్ని బోల్డ్ లేదా ఇటాలిక్ చేయవచ్చు.ప్రత్యామ్నాయంగా, మీరు 'అపోస్ట్రోఫెస్' మధ్య వచనాన్ని ఉంచవచ్చు;ప్రతి వైపు మూడు బోల్డ్ కోసం మరియు ఇటాలిక్స్ కోసం ప్రతి వైపు రెండు.\n",
            "You: मैं विकि पर अपने परिवर्तन कैसे सहेजूँ?\n",
            "en\n",
            "How do I save my changes on the wiki? heyy\n",
            "hi\n",
            "जब आप विकिपीडिया पर अपने परिवर्तनों को प्रकाशित करने (सहेजने) के लिए तैयार होते हैं, तो कुछ कदमों का पालन करने के लिए हैं:\n",
            "1. शो पूर्वावलोकन बटन पर क्लिक करके अपने परिवर्तनों का पूर्वावलोकन करें ताकि वे यह सुनिश्चित कर सकें कि वे आपके इरादे से दिखते हैं।\n",
            "2. अपने परिवर्तन को संक्षेप में समझाने के लिए 'एडिट सारांश' बॉक्स में एक छोटा संपादन सारांश लिखें।\n",
            "3. यदि आपका परिवर्तन मामूली और अनियंत्रित है, तो 'is यह एक मामूली संपादन' बॉक्स की जाँच करें।\n",
            "4. वैकल्पिक रूप से, अपने वॉचलिस्ट में पृष्ठ जोड़ें, '' इस पेज 'बॉक्स को देखें' बॉक्स की जाँच करके आगे के परिवर्तनों को सूचित करने के लिए।\n",
            "5. अंत में, विकिपीडिया में अपने परिवर्तनों को अपलोड करने के लिए प्रकाशित परिवर्तन बटन पर क्लिक करें। heyy\n",
            "Bot: जब आप विकिपीडिया पर अपने परिवर्तनों को प्रकाशित करने (सहेजने) के लिए तैयार होते हैं, तो कुछ कदमों का पालन करने के लिए हैं:\n",
            "1. शो पूर्वावलोकन बटन पर क्लिक करके अपने परिवर्तनों का पूर्वावलोकन करें ताकि वे यह सुनिश्चित कर सकें कि वे आपके इरादे से दिखते हैं।\n",
            "2. अपने परिवर्तन को संक्षेप में समझाने के लिए 'एडिट सारांश' बॉक्स में एक छोटा संपादन सारांश लिखें।\n",
            "3. यदि आपका परिवर्तन मामूली और अनियंत्रित है, तो 'is यह एक मामूली संपादन' बॉक्स की जाँच करें।\n",
            "4. वैकल्पिक रूप से, अपने वॉचलिस्ट में पृष्ठ जोड़ें, '' इस पेज 'बॉक्स को देखें' बॉक्स की जाँच करके आगे के परिवर्तनों को सूचित करने के लिए।\n",
            "5. अंत में, विकिपीडिया में अपने परिवर्तनों को अपलोड करने के लिए प्रकाशित परिवर्तन बटन पर क्लिक करें।\n",
            "You: उद्धरण जोड़ने के लिए दिशानिर्देश?\n",
            "en\n",
            "Guidelines to add quotes? heyy\n",
            "hi\n",
            "बड़ा, नीला उद्धरण चिह्न टेम्प्लेट {{Quote}} और {{Quote}} हैं।श्रेणी भी देखें: उद्धरण टेम्प्लेट। heyy\n",
            "Bot: बड़ा, नीला उद्धरण चिह्न टेम्प्लेट {{Quote}} और {{Quote}} हैं।श्रेणी भी देखें: उद्धरण टेम्प्लेट।\n",
            "You: అనులేఖనాలను జోడించడానికి మార్గదర్శకాలు?\n",
            "en\n",
            "Guidelines to add perpetrations? heyy\n",
            "te\n",
            "సాధారణంగా, వికీలింక్‌లు [[లక్ష్య పేజీ]] వంటి చదరపు బ్రాకెట్లను ఉపయోగిస్తాయి.మీరు గొలుసు ఐకాన్ చిహ్నాన్ని క్లిక్ చేయడం ద్వారా కూడా వాటిని చేర్చవచ్చు.ఒక కథనానికి లింక్ చేయడానికి కానీ లింక్ కోసం కొన్ని ఇతర వచనాన్ని ప్రదర్శించడానికి, పైపు | ఉపయోగించండిడివైడర్ (⇧ Shift+\\), [[లక్ష్య పేజీ | వచనాన్ని ప్రదర్శించండి]]. heyy\n",
            "Bot: సాధారణంగా, వికీలింక్‌లు [[లక్ష్య పేజీ]] వంటి చదరపు బ్రాకెట్లను ఉపయోగిస్తాయి.మీరు గొలుసు ఐకాన్ చిహ్నాన్ని క్లిక్ చేయడం ద్వారా కూడా వాటిని చేర్చవచ్చు.ఒక కథనానికి లింక్ చేయడానికి కానీ లింక్ కోసం కొన్ని ఇతర వచనాన్ని ప్రదర్శించడానికి, పైపు | ఉపయోగించండిడివైడర్ (⇧ Shift+\\), [[లక్ష్య పేజీ | వచనాన్ని ప్రదర్శించండి]].\n",
            "You: సూచనలను జోడించడానికి మార్గదర్శకాలు?\n",
            "en\n",
            "Guidelines to add instructions? heyy\n",
            "te\n",
            "సాధారణంగా, వికీలింక్‌లు [[లక్ష్య పేజీ]] వంటి చదరపు బ్రాకెట్లను ఉపయోగిస్తాయి.మీరు గొలుసు ఐకాన్ చిహ్నాన్ని క్లిక్ చేయడం ద్వారా కూడా వాటిని చేర్చవచ్చు.ఒక కథనానికి లింక్ చేయడానికి కానీ లింక్ కోసం కొన్ని ఇతర వచనాన్ని ప్రదర్శించడానికి, పైపు | ఉపయోగించండిడివైడర్ (⇧ Shift+\\), [[లక్ష్య పేజీ | వచనాన్ని ప్రదర్శించండి]]. heyy\n",
            "Bot: సాధారణంగా, వికీలింక్‌లు [[లక్ష్య పేజీ]] వంటి చదరపు బ్రాకెట్లను ఉపయోగిస్తాయి.మీరు గొలుసు ఐకాన్ చిహ్నాన్ని క్లిక్ చేయడం ద్వారా కూడా వాటిని చేర్చవచ్చు.ఒక కథనానికి లింక్ చేయడానికి కానీ లింక్ కోసం కొన్ని ఇతర వచనాన్ని ప్రదర్శించడానికి, పైపు | ఉపయోగించండిడివైడర్ (⇧ Shift+\\), [[లక్ష్య పేజీ | వచనాన్ని ప్రదర్శించండి]].\n",
            "You: ఆడియో వీడియో వంటి మీడియాను జోడించడానికి మార్గదర్శకాలు?\n",
            "en\n",
            "Guidelines to add media like audio video? heyy\n",
            "te\n",
            "వికీపీడియాకు చిత్రాలు, శబ్దాలు మరియు వీడియోలను జోడించడానికి, మీరు ప్రాథమిక కోడ్‌ను ఉపయోగించవచ్చు [[ఫైల్: ఫైల్ పేరు | బొటనవేలు | వివరణ]]. heyy\n",
            "Bot: వికీపీడియాకు చిత్రాలు, శబ్దాలు మరియు వీడియోలను జోడించడానికి, మీరు ప్రాథమిక కోడ్‌ను ఉపయోగించవచ్చు [[ఫైల్: ఫైల్ పేరు | బొటనవేలు | వివరణ]].\n",
            "You: क्या आप तत्काल सहायता प्रदान करते हैं?\n",
            "en\n",
            "Do you provide immediate help? heyy\n",
            "hi\n",
            "हां, मैं नए संपादकों को वास्तविक समय का समर्थन प्रदान करता हूं।संपादन करते समय मुझसे कोई भी प्रश्न पूछने के लिए स्वतंत्र महसूस करें। heyy\n",
            "Bot: हां, मैं नए संपादकों को वास्तविक समय का समर्थन प्रदान करता हूं।संपादन करते समय मुझसे कोई भी प्रश्न पूछने के लिए स्वतंत्र महसूस करें।\n",
            "You: peux-tu répondre en plusieurs langues\n",
            "en\n",
            "Can you answer in several languages heyy\n",
            "fr\n",
            "Je peux fournir une assistance en plusieurs langues.Quelle langue préférez-vous? heyy\n",
            "Bot: Je peux fournir une assistance en plusieurs langues.Quelle langue préférez-vous?\n",
            "You: exit\n",
            "Goodbye! Don't hesitate to return if you need further assistance.\n"
          ]
        }
      ],
      "source": [
        "import json\n",
        "import spacy\n",
        "\n",
        "intents = json.loads(data_file)\n",
        "nlp = spacy.load('en_core_web_md')\n",
        "\n",
        "def get_intent(user_input):\n",
        "    max_similarity = 0\n",
        "    intent_tag = None\n",
        "    for intent in intents['intents']:\n",
        "        for pattern in intent['patterns']:\n",
        "          if user_input!=None and pattern!=None:\n",
        "            similarity = calculate_similarity(user_input.lower(), pattern.lower())\n",
        "            if similarity > max_similarity:\n",
        "                max_similarity = similarity\n",
        "                intent_tag = intent['tag']\n",
        "\n",
        "    return intent_tag\n",
        "\n",
        "def get_response(intent_tag):\n",
        "    for intent in intents['intents']:\n",
        "        if intent['tag'] == intent_tag:\n",
        "            response = intent['responses'][0]\n",
        "            return response\n",
        "\n",
        "def chat():\n",
        "    print(\"Hello! Welcome to the Wikipedia editing support chatbot.\")\n",
        "    while True:\n",
        "        user_input = input(\"You: \").strip()\n",
        "        if user_input.lower() == 'exit':\n",
        "            print(\"Goodbye! Don't hesitate to return if you need further assistance.\")\n",
        "            break\n",
        "\n",
        "        detected_lang = detect(user_input)\n",
        "\n",
        "        if detected_lang != 'en':\n",
        "            translated_input = translate_lang(user_input, \"en\")\n",
        "        else:\n",
        "            translated_input = user_input\n",
        "\n",
        "        intent_tag = get_intent(translated_input)\n",
        "        response = get_response(intent_tag)\n",
        "\n",
        "        if response==None:\n",
        "          translated_response = \"Sorry, I donot have an answer to that :(\"\n",
        "        if detected_lang != 'en':\n",
        "            translated_response = translate_lang(response, detected_lang)\n",
        "        else:\n",
        "            translated_response = response\n",
        "\n",
        "        print(\"Bot:\", translated_response)\n",
        "\n",
        "\n",
        "if __name__ == \"__main__\":\n",
        "    chat()\n"
      ]
    }
  ]
}