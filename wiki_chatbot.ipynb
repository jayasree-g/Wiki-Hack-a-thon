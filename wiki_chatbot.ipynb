{
 "cells": [
  {
   "cell_type": "code",
   "execution_count": 1,
   "metadata": {
    "colab": {
     "base_uri": "https://localhost:8080/"
    },
    "id": "psOXjvcKpElA",
    "outputId": "50c084fa-c1fd-4672-d929-b0b172adc2bf"
   },
   "outputs": [
    {
     "name": "stdout",
     "output_type": "stream",
     "text": [
      "Collecting en-core-web-md==3.7.1\n",
      "  Downloading https://github.com/explosion/spacy-models/releases/download/en_core_web_md-3.7.1/en_core_web_md-3.7.1-py3-none-any.whl (42.8 MB)\n",
      "\u001b[2K     \u001b[90m━━━━━━━━━━━━━━━━━━━━━━━━━━━━━━━━━━━━━━━━\u001b[0m \u001b[32m42.8/42.8 MB\u001b[0m \u001b[31m31.7 MB/s\u001b[0m eta \u001b[36m0:00:00\u001b[0m00:01\u001b[0m00:01\u001b[0m\n",
      "\u001b[?25hRequirement already satisfied: spacy<3.8.0,>=3.7.2 in /srv/paws/lib/python3.10/site-packages (from en-core-web-md==3.7.1) (3.7.4)\n",
      "Requirement already satisfied: spacy-legacy<3.1.0,>=3.0.11 in /srv/paws/lib/python3.10/site-packages (from spacy<3.8.0,>=3.7.2->en-core-web-md==3.7.1) (3.0.12)\n",
      "Requirement already satisfied: spacy-loggers<2.0.0,>=1.0.0 in /srv/paws/lib/python3.10/site-packages (from spacy<3.8.0,>=3.7.2->en-core-web-md==3.7.1) (1.0.5)\n",
      "Requirement already satisfied: murmurhash<1.1.0,>=0.28.0 in /srv/paws/lib/python3.10/site-packages (from spacy<3.8.0,>=3.7.2->en-core-web-md==3.7.1) (1.0.10)\n",
      "Requirement already satisfied: cymem<2.1.0,>=2.0.2 in /srv/paws/lib/python3.10/site-packages (from spacy<3.8.0,>=3.7.2->en-core-web-md==3.7.1) (2.0.8)\n",
      "Requirement already satisfied: preshed<3.1.0,>=3.0.2 in /srv/paws/lib/python3.10/site-packages (from spacy<3.8.0,>=3.7.2->en-core-web-md==3.7.1) (3.0.9)\n",
      "Requirement already satisfied: thinc<8.3.0,>=8.2.2 in /srv/paws/lib/python3.10/site-packages (from spacy<3.8.0,>=3.7.2->en-core-web-md==3.7.1) (8.2.3)\n",
      "Requirement already satisfied: wasabi<1.2.0,>=0.9.1 in /srv/paws/lib/python3.10/site-packages (from spacy<3.8.0,>=3.7.2->en-core-web-md==3.7.1) (1.1.2)\n",
      "Requirement already satisfied: srsly<3.0.0,>=2.4.3 in /srv/paws/lib/python3.10/site-packages (from spacy<3.8.0,>=3.7.2->en-core-web-md==3.7.1) (2.4.8)\n",
      "Requirement already satisfied: catalogue<2.1.0,>=2.0.6 in /srv/paws/lib/python3.10/site-packages (from spacy<3.8.0,>=3.7.2->en-core-web-md==3.7.1) (2.0.10)\n",
      "Requirement already satisfied: weasel<0.4.0,>=0.1.0 in /srv/paws/lib/python3.10/site-packages (from spacy<3.8.0,>=3.7.2->en-core-web-md==3.7.1) (0.3.4)\n",
      "Requirement already satisfied: typer<0.10.0,>=0.3.0 in /srv/paws/lib/python3.10/site-packages (from spacy<3.8.0,>=3.7.2->en-core-web-md==3.7.1) (0.9.0)\n",
      "Requirement already satisfied: smart-open<7.0.0,>=5.2.1 in /srv/paws/lib/python3.10/site-packages (from spacy<3.8.0,>=3.7.2->en-core-web-md==3.7.1) (6.4.0)\n",
      "Requirement already satisfied: tqdm<5.0.0,>=4.38.0 in /srv/paws/lib/python3.10/site-packages (from spacy<3.8.0,>=3.7.2->en-core-web-md==3.7.1) (4.66.2)\n",
      "Requirement already satisfied: requests<3.0.0,>=2.13.0 in /srv/paws/lib/python3.10/site-packages (from spacy<3.8.0,>=3.7.2->en-core-web-md==3.7.1) (2.31.0)\n",
      "Requirement already satisfied: pydantic!=1.8,!=1.8.1,<3.0.0,>=1.7.4 in /srv/paws/lib/python3.10/site-packages (from spacy<3.8.0,>=3.7.2->en-core-web-md==3.7.1) (2.6.3)\n",
      "Requirement already satisfied: jinja2 in /srv/paws/lib/python3.10/site-packages (from spacy<3.8.0,>=3.7.2->en-core-web-md==3.7.1) (3.1.3)\n",
      "Requirement already satisfied: setuptools in /srv/paws/lib/python3.10/site-packages (from spacy<3.8.0,>=3.7.2->en-core-web-md==3.7.1) (69.1.1)\n",
      "Requirement already satisfied: packaging>=20.0 in /srv/paws/lib/python3.10/site-packages (from spacy<3.8.0,>=3.7.2->en-core-web-md==3.7.1) (23.2)\n",
      "Requirement already satisfied: langcodes<4.0.0,>=3.2.0 in /srv/paws/lib/python3.10/site-packages (from spacy<3.8.0,>=3.7.2->en-core-web-md==3.7.1) (3.3.0)\n",
      "Requirement already satisfied: numpy>=1.19.0 in /srv/paws/lib/python3.10/site-packages (from spacy<3.8.0,>=3.7.2->en-core-web-md==3.7.1) (1.26.4)\n",
      "Requirement already satisfied: annotated-types>=0.4.0 in /srv/paws/lib/python3.10/site-packages (from pydantic!=1.8,!=1.8.1,<3.0.0,>=1.7.4->spacy<3.8.0,>=3.7.2->en-core-web-md==3.7.1) (0.6.0)\n",
      "Requirement already satisfied: pydantic-core==2.16.3 in /srv/paws/lib/python3.10/site-packages (from pydantic!=1.8,!=1.8.1,<3.0.0,>=1.7.4->spacy<3.8.0,>=3.7.2->en-core-web-md==3.7.1) (2.16.3)\n",
      "Requirement already satisfied: typing-extensions>=4.6.1 in /srv/paws/lib/python3.10/site-packages (from pydantic!=1.8,!=1.8.1,<3.0.0,>=1.7.4->spacy<3.8.0,>=3.7.2->en-core-web-md==3.7.1) (4.10.0)\n",
      "Requirement already satisfied: charset-normalizer<4,>=2 in /srv/paws/lib/python3.10/site-packages (from requests<3.0.0,>=2.13.0->spacy<3.8.0,>=3.7.2->en-core-web-md==3.7.1) (3.3.2)\n",
      "Requirement already satisfied: idna<4,>=2.5 in /srv/paws/lib/python3.10/site-packages (from requests<3.0.0,>=2.13.0->spacy<3.8.0,>=3.7.2->en-core-web-md==3.7.1) (3.6)\n",
      "Requirement already satisfied: urllib3<3,>=1.21.1 in /srv/paws/lib/python3.10/site-packages (from requests<3.0.0,>=2.13.0->spacy<3.8.0,>=3.7.2->en-core-web-md==3.7.1) (2.2.1)\n",
      "Requirement already satisfied: certifi>=2017.4.17 in /srv/paws/lib/python3.10/site-packages (from requests<3.0.0,>=2.13.0->spacy<3.8.0,>=3.7.2->en-core-web-md==3.7.1) (2024.2.2)\n",
      "Requirement already satisfied: blis<0.8.0,>=0.7.8 in /srv/paws/lib/python3.10/site-packages (from thinc<8.3.0,>=8.2.2->spacy<3.8.0,>=3.7.2->en-core-web-md==3.7.1) (0.7.11)\n",
      "Requirement already satisfied: confection<1.0.0,>=0.0.1 in /srv/paws/lib/python3.10/site-packages (from thinc<8.3.0,>=8.2.2->spacy<3.8.0,>=3.7.2->en-core-web-md==3.7.1) (0.1.4)\n",
      "Requirement already satisfied: click<9.0.0,>=7.1.1 in /srv/paws/lib/python3.10/site-packages (from typer<0.10.0,>=0.3.0->spacy<3.8.0,>=3.7.2->en-core-web-md==3.7.1) (8.1.7)\n",
      "Requirement already satisfied: cloudpathlib<0.17.0,>=0.7.0 in /srv/paws/lib/python3.10/site-packages (from weasel<0.4.0,>=0.1.0->spacy<3.8.0,>=3.7.2->en-core-web-md==3.7.1) (0.16.0)\n",
      "Requirement already satisfied: MarkupSafe>=2.0 in /srv/paws/lib/python3.10/site-packages (from jinja2->spacy<3.8.0,>=3.7.2->en-core-web-md==3.7.1) (2.1.5)\n",
      "\u001b[38;5;2m✔ Download and installation successful\u001b[0m\n",
      "You can now load the package via spacy.load('en_core_web_md')\n",
      "--2024-03-09 07:15:25--  https://bin.equinox.io/c/4VmDzA7iaHb/ngrok-stable-linux-amd64.tgz\n",
      "Resolving bin.equinox.io (bin.equinox.io)... 54.237.133.81, 52.202.168.65, 54.161.241.46, ...\n",
      "Connecting to bin.equinox.io (bin.equinox.io)|54.237.133.81|:443... connected.\n",
      "HTTP request sent, awaiting response... 200 OK\n",
      "Length: 13856790 (13M) [application/octet-stream]\n",
      "Saving to: ‘ngrok-stable-linux-amd64.tgz.2’\n",
      "\n",
      "ngrok-stable-linux- 100%[===================>]  13.21M  43.2MB/s    in 0.3s    \n",
      "\n",
      "2024-03-09 07:15:26 (43.2 MB/s) - ‘ngrok-stable-linux-amd64.tgz.2’ saved [13856790/13856790]\n",
      "\n",
      "tar: /content/ngrok-stable-linux-amd64.tgz: Cannot open: No such file or directory\n",
      "tar: Error is not recoverable: exiting now\n",
      "Authtoken saved to configuration file: /home/paws/.ngrok2/ngrok.yml\n",
      "Requirement already satisfied: pyngrok in /srv/paws/lib/python3.10/site-packages (7.1.5)\n",
      "Requirement already satisfied: PyYAML>=5.1 in /srv/paws/lib/python3.10/site-packages (from pyngrok) (6.0.1)\n",
      "Requirement already satisfied: flask_cors in /srv/paws/lib/python3.10/site-packages (4.0.0)\n",
      "Requirement already satisfied: Flask>=0.9 in /srv/paws/lib/python3.10/site-packages (from flask_cors) (3.0.2)\n",
      "Requirement already satisfied: Werkzeug>=3.0.0 in /srv/paws/lib/python3.10/site-packages (from Flask>=0.9->flask_cors) (3.0.1)\n",
      "Requirement already satisfied: Jinja2>=3.1.2 in /srv/paws/lib/python3.10/site-packages (from Flask>=0.9->flask_cors) (3.1.3)\n",
      "Requirement already satisfied: itsdangerous>=2.1.2 in /srv/paws/lib/python3.10/site-packages (from Flask>=0.9->flask_cors) (2.1.2)\n",
      "Requirement already satisfied: click>=8.1.3 in /srv/paws/lib/python3.10/site-packages (from Flask>=0.9->flask_cors) (8.1.7)\n",
      "Requirement already satisfied: blinker>=1.6.2 in /srv/paws/lib/python3.10/site-packages (from Flask>=0.9->flask_cors) (1.7.0)\n",
      "Requirement already satisfied: MarkupSafe>=2.0 in /srv/paws/lib/python3.10/site-packages (from Jinja2>=3.1.2->Flask>=0.9->flask_cors) (2.1.5)\n",
      "Requirement already satisfied: langdetect in /srv/paws/lib/python3.10/site-packages (1.0.9)\n",
      "Requirement already satisfied: six in /srv/paws/lib/python3.10/site-packages (from langdetect) (1.16.0)\n"
     ]
    }
   ],
   "source": [
    "!python -m spacy download en_core_web_md\n",
    "!pip install flask --quiet\n",
    "!pip install flask-ngrok --quiet\n",
    "!wget https://bin.equinox.io/c/4VmDzA7iaHb/ngrok-stable-linux-amd64.tgz\n",
    "!tar -xvf /content/ngrok-stable-linux-amd64.tgz\n",
    "!./ngrok authtoken 2dQBXrnyOC0JCAXLXtBfGGMFGWA_2yj3NDBGtcdwqxVG9MgV1\n",
    "!pip install pyngrok\n",
    "!pip install flask_cors\n",
    "!pip install langdetect"
   ]
  },
  {
   "cell_type": "code",
   "execution_count": null,
   "metadata": {
    "colab": {
     "base_uri": "https://localhost:8080/"
    },
    "id": "dfd37IuheDZ5",
    "outputId": "943dde6f-34d0-4dd6-825f-05009f2380dc"
   },
   "outputs": [],
   "source": []
  },
  {
   "cell_type": "code",
   "execution_count": 2,
   "metadata": {
    "id": "JnO4iVJ5pcwU"
   },
   "outputs": [],
   "source": [
    "data_file=open('./intents.json').read()"
   ]
  },
  {
   "cell_type": "code",
   "execution_count": 14,
   "metadata": {
    "id": "GdXhfY2o9UtD"
   },
   "outputs": [],
   "source": [
    "import requests\n",
    "\n",
    "url1 = \"https://google-translation-unlimited.p.rapidapi.com/translate\"\n",
    "url2 = \"https://google-translation-unlimited.p.rapidapi.com/detect\"\n",
    "\n",
    "headers = {\n",
    "\t\"content-type\": \"application/x-www-form-urlencoded\",\n",
    "\t\"X-RapidAPI-Key\": \"c6508df8d2msh28c51d25a65f866p1c9b1ajsn7ff5b8b72944\",\n",
    "\t\"X-RapidAPI-Host\": \"google-translation-unlimited.p.rapidapi.com\"\n",
    "}"
   ]
  },
  {
   "cell_type": "code",
   "execution_count": 15,
   "metadata": {
    "id": "YzUL6MhceM5I"
   },
   "outputs": [],
   "source": [
    "from langdetect import detect\n",
    "\n",
    "def translate_lang(text, lang):\n",
    "    try:\n",
    "        payload = {\n",
    "          \"texte\": text,\n",
    "          \"to_lang\": lang\n",
    "          }\n",
    "        translation = requests.post(url1, data=payload, headers=headers).json()['translation_data']['translation']\n",
    "        return translation\n",
    "    except Exception as e:\n",
    "        print(\"Error:\", e)\n",
    "        return None\n",
    "\n",
    "def new_detect(text):\n",
    "    try:\n",
    "        payload = {\n",
    "          \"texte\": text\n",
    "          }\n",
    "        translation = requests.post(url2, data=payload, headers=headers).json()['detect']\n",
    "        print(translation)\n",
    "        return translation\n",
    "    except Exception as e:\n",
    "        print(\"Error:\", e)\n",
    "        return None"
   ]
  },
  {
   "cell_type": "code",
   "execution_count": 16,
   "metadata": {
    "colab": {
     "base_uri": "https://localhost:8080/"
    },
    "id": "5iSxtrQ0BqON",
    "outputId": "1fb792d6-42c7-4000-a251-d408bc014a48"
   },
   "outputs": [
    {
     "name": "stderr",
     "output_type": "stream",
     "text": [
      "[nltk_data] Downloading package punkt to /home/paws/nltk_data...\n",
      "[nltk_data]   Package punkt is already up-to-date!\n",
      "[nltk_data] Downloading package stopwords to /home/paws/nltk_data...\n",
      "[nltk_data]   Package stopwords is already up-to-date!\n",
      "[nltk_data] Downloading package wordnet to /home/paws/nltk_data...\n",
      "[nltk_data]   Package wordnet is already up-to-date!\n"
     ]
    },
    {
     "data": {
      "text/plain": [
       "True"
      ]
     },
     "execution_count": 16,
     "metadata": {},
     "output_type": "execute_result"
    }
   ],
   "source": [
    "import nltk\n",
    "from nltk.corpus import stopwords\n",
    "from nltk.tokenize import word_tokenize\n",
    "from nltk.stem import WordNetLemmatizer\n",
    "from sklearn.feature_extraction.text import TfidfVectorizer\n",
    "from sklearn.metrics.pairwise import cosine_similarity\n",
    "\n",
    "nltk.download('punkt')\n",
    "nltk.download('stopwords')\n",
    "nltk.download('wordnet')"
   ]
  },
  {
   "cell_type": "code",
   "execution_count": 17,
   "metadata": {
    "id": "ww90mbHCAHTG"
   },
   "outputs": [],
   "source": [
    "def preprocess_text(text):\n",
    "    tokens = word_tokenize(text.lower())\n",
    "    stop_words = set(stopwords.words('english'))\n",
    "    tokens = [word for word in tokens if word not in stop_words]\n",
    "    lemmatizer = WordNetLemmatizer()\n",
    "    tokens = [lemmatizer.lemmatize(word) for word in tokens]\n",
    "    preprocessed_text = ' '.join(tokens)\n",
    "    return preprocessed_text\n",
    "\n",
    "def calculate_similarity(text1, text2):\n",
    "    processed_text1 = preprocess_text(text1)\n",
    "    processed_text2 = preprocess_text(text2)\n",
    "\n",
    "    processed_texts = [processed_text1, processed_text2]\n",
    "\n",
    "    vectorizer = TfidfVectorizer()\n",
    "    tfidf_matrix = vectorizer.fit_transform(processed_texts)\n",
    "\n",
    "    similarity_matrix = cosine_similarity(tfidf_matrix)\n",
    "\n",
    "    similarity_score = similarity_matrix[0][1]\n",
    "    return similarity_score\n"
   ]
  },
  {
   "cell_type": "code",
   "execution_count": null,
   "metadata": {
    "colab": {
     "base_uri": "https://localhost:8080/"
    },
    "id": "8WTpz9qlo2dc",
    "outputId": "18436b45-5e12-48c6-e9b4-11e29ddadec5"
   },
   "outputs": [
    {
     "name": "stderr",
     "output_type": "stream",
     "text": [
      "t=2024-03-09T07:34:11+0000 lvl=warn msg=\"ngrok config file found at both XDG and legacy locations, using XDG location\" xdg_path=/home/paws/.config/ngrok/ngrok.yml legacy_path=/home/paws/.ngrok2/ngrok.yml\n"
     ]
    },
    {
     "name": "stdout",
     "output_type": "stream",
     "text": [
      "https://b71c-185-15-56-1.ngrok-free.app\n",
      " * Serving Flask app '__main__'\n",
      " * Debug mode: off\n"
     ]
    },
    {
     "name": "stderr",
     "output_type": "stream",
     "text": [
      "\u001b[31m\u001b[1mWARNING: This is a development server. Do not use it in a production deployment. Use a production WSGI server instead.\u001b[0m\n",
      " * Running on http://127.0.0.1:5000\n",
      "\u001b[33mPress CTRL+C to quit\u001b[0m\n"
     ]
    },
    {
     "name": "stdout",
     "output_type": "stream",
     "text": [
      "Hello! Welcome to the Wikipedia editing support chatbot.\n",
      "en\n",
      "en\n"
     ]
    },
    {
     "name": "stderr",
     "output_type": "stream",
     "text": [
      "127.0.0.1 - - [09/Mar/2024 07:34:34] \"POST /query HTTP/1.1\" 200 -\n",
      "127.0.0.1 - - [09/Mar/2024 07:34:55] \"\u001b[33mGET / HTTP/1.1\u001b[0m\" 404 -\n",
      "127.0.0.1 - - [09/Mar/2024 07:35:22] \"OPTIONS /query HTTP/1.1\" 200 -\n",
      "127.0.0.1 - - [09/Mar/2024 07:35:23] \"POST /query HTTP/1.1\" 200 -\n"
     ]
    },
    {
     "name": "stdout",
     "output_type": "stream",
     "text": [
      "Hello! Welcome to the Wikipedia editing support chatbot.\n"
     ]
    },
    {
     "name": "stderr",
     "output_type": "stream",
     "text": [
      "127.0.0.1 - - [09/Mar/2024 07:35:32] \"OPTIONS /query HTTP/1.1\" 200 -\n"
     ]
    },
    {
     "name": "stdout",
     "output_type": "stream",
     "text": [
      "Hello! Welcome to the Wikipedia editing support chatbot.\n",
      "en\n",
      "en\n"
     ]
    },
    {
     "name": "stderr",
     "output_type": "stream",
     "text": [
      "127.0.0.1 - - [09/Mar/2024 07:35:33] \"POST /query HTTP/1.1\" 200 -\n",
      "127.0.0.1 - - [09/Mar/2024 07:35:39] \"\u001b[31m\u001b[1mGET /query HTTP/1.1\u001b[0m\" 405 -\n",
      "127.0.0.1 - - [09/Mar/2024 07:35:40] \"\u001b[31m\u001b[1mHEAD /query HTTP/1.1\u001b[0m\" 405 -\n",
      "127.0.0.1 - - [09/Mar/2024 07:35:54] \"OPTIONS /query HTTP/1.1\" 200 -\n"
     ]
    },
    {
     "name": "stdout",
     "output_type": "stream",
     "text": [
      "Hello! Welcome to the Wikipedia editing support chatbot.\n",
      "te\n",
      "te\n"
     ]
    },
    {
     "name": "stderr",
     "output_type": "stream",
     "text": [
      "127.0.0.1 - - [09/Mar/2024 07:35:56] \"POST /query HTTP/1.1\" 200 -\n",
      "127.0.0.1 - - [09/Mar/2024 07:36:27] \"OPTIONS /query HTTP/1.1\" 200 -\n",
      "127.0.0.1 - - [09/Mar/2024 07:36:27] \"POST /query HTTP/1.1\" 200 -\n"
     ]
    },
    {
     "name": "stdout",
     "output_type": "stream",
     "text": [
      "Hello! Welcome to the Wikipedia editing support chatbot.\n"
     ]
    },
    {
     "name": "stderr",
     "output_type": "stream",
     "text": [
      "127.0.0.1 - - [09/Mar/2024 07:36:33] \"OPTIONS /query HTTP/1.1\" 200 -\n"
     ]
    },
    {
     "name": "stdout",
     "output_type": "stream",
     "text": [
      "Hello! Welcome to the Wikipedia editing support chatbot.\n",
      "en\n",
      "en\n"
     ]
    },
    {
     "name": "stderr",
     "output_type": "stream",
     "text": [
      "127.0.0.1 - - [09/Mar/2024 07:36:34] \"\u001b[31m\u001b[1mHEAD /query HTTP/1.1\u001b[0m\" 405 -\n",
      "127.0.0.1 - - [09/Mar/2024 07:36:34] \"POST /query HTTP/1.1\" 200 -\n",
      "127.0.0.1 - - [09/Mar/2024 07:36:38] \"OPTIONS /query HTTP/1.1\" 200 -\n"
     ]
    },
    {
     "name": "stdout",
     "output_type": "stream",
     "text": [
      "Hello! Welcome to the Wikipedia editing support chatbot.\n",
      "te\n",
      "te\n"
     ]
    },
    {
     "name": "stderr",
     "output_type": "stream",
     "text": [
      "127.0.0.1 - - [09/Mar/2024 07:36:41] \"POST /query HTTP/1.1\" 200 -\n"
     ]
    }
   ],
   "source": [
    "import json\n",
    "import spacy\n",
    "\n",
    "intents = json.loads(data_file)\n",
    "nlp = spacy.load('en_core_web_md')\n",
    "from pyngrok import ngrok \n",
    "ngrok.set_auth_token('2dQBXrnyOC0JCAXLXtBfGGMFGWA_2yj3NDBGtcdwqxVG9MgV1')\n",
    "public_url = ngrok.connect(5000).public_url\n",
    "print(public_url)\n",
    "\n",
    "def get_intent(user_input):\n",
    "    max_similarity = 0\n",
    "    intent_tag = None\n",
    "    for intent in intents['intents']:\n",
    "        for pattern in intent['patterns']:\n",
    "          if user_input!=None and pattern!=None:\n",
    "            similarity = calculate_similarity(user_input.lower(), pattern.lower())\n",
    "            if similarity > max_similarity:\n",
    "                max_similarity = similarity\n",
    "                intent_tag = intent['tag']\n",
    "\n",
    "    return intent_tag\n",
    "\n",
    "def get_response(intent_tag):\n",
    "    for intent in intents['intents']:\n",
    "        if intent['tag'] == intent_tag:\n",
    "            response = intent['responses'][0]\n",
    "            return response\n",
    "            \n",
    "    \n",
    "def chat(user_input):\n",
    "    print(\"Hello! Welcome to the Wikipedia editing support chatbot.\")\n",
    "    while True:\n",
    "        if user_input.lower() == 'exit':\n",
    "            print(\"Goodbye! Don't hesitate to return if you need further assistance.\")\n",
    "            break\n",
    "        if user_input.lower() in [\"hi\",\"hello\",\"hey\",\"heyy\"]:\n",
    "            return [\"Hello! Welcome to wikipedia editing support chatbot. How can I assist you today?\",\"greeting\"]\n",
    "\n",
    "        detected_lang = new_detect(user_input)\n",
    "        print(detected_lang)\n",
    "        \n",
    "\n",
    "        if detected_lang != 'en':\n",
    "            translated_input = translate_lang(user_input, \"en\")\n",
    "        else:\n",
    "            translated_input = user_input\n",
    "\n",
    "        intent_tag = get_intent(translated_input)\n",
    "        response = [get_response(intent_tag),intent_tag]\n",
    "\n",
    "        if response[0] == None:\n",
    "          translated_response = \"Sorry, I donot have an answer to that :(\"\n",
    "        if detected_lang != 'en':\n",
    "            translated_response = translate_lang(response[0], detected_lang)\n",
    "        else:\n",
    "            translated_response = response[0]\n",
    "\n",
    "        return [translated_response,intent_tag]\n",
    "\n",
    "\n",
    "from flask import Flask, request, jsonify\n",
    "from flask_cors import CORS\n",
    "app = Flask(__name__)\n",
    "# app.secret_key = '2dQBXrnyOC0JCAXLXtBfGGMFGWA_2yj3NDBGtcdwqxVG9MgV1'\n",
    "# run_with_ngrok(app)# Run ngrok with the Flask app\n",
    "CORS(app)\n",
    "@app.route('/query', methods=['POST'])\n",
    "def process_query():\n",
    "    data = request.json\n",
    "    user_query = data['query']\n",
    "\n",
    "    # Process user query and generate response (replace with your chatbot logic)\n",
    "    response = chat(user_query)\n",
    "\n",
    "    return jsonify({'response': response})\n",
    "\n",
    "if __name__ == '__main__':\n",
    "    app.run(port = 5000)"
   ]
  },
  {
   "cell_type": "code",
   "execution_count": null,
   "metadata": {},
   "outputs": [],
   "source": []
  },
  {
   "cell_type": "code",
   "execution_count": null,
   "metadata": {},
   "outputs": [],
   "source": []
  },
  {
   "cell_type": "code",
   "execution_count": null,
   "metadata": {},
   "outputs": [],
   "source": []
  }
 ],
 "metadata": {
  "colab": {
   "provenance": []
  },
  "kernelspec": {
   "display_name": "Python 3 (ipykernel)",
   "language": "python",
   "name": "python3"
  },
  "language_info": {
   "codemirror_mode": {
    "name": "ipython",
    "version": 3
   },
   "file_extension": ".py",
   "mimetype": "text/x-python",
   "name": "python",
   "nbconvert_exporter": "python",
   "pygments_lexer": "ipython3",
   "version": "3.10.12"
  }
 },
 "nbformat": 4,
 "nbformat_minor": 4
}
