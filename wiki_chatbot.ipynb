{
 "cells": [
  {
   "cell_type": "code",
   "execution_count": null,
   "metadata": {
    "colab": {
     "base_uri": "https://localhost:8080/"
    },
    "id": "psOXjvcKpElA",
    "outputId": "50c084fa-c1fd-4672-d929-b0b172adc2bf"
   },
   "outputs": [],
   "source": [
    "# Setup commands for installing dependencies and tools required for running a Flask web application with ngrok tunneling\n",
    "!python -m spacy download en_core_web_md\n",
    "!pip install flask --quiet\n",
    "!pip install flask-ngrok --quiet\n",
    "!wget https://bin.equinox.io/c/4VmDzA7iaHb/ngrok-stable-linux-amd64.tgz\n",
    "!tar -xvf /content/ngrok-stable-linux-amd64.tgz\n",
    "!./ngrok authtoken 2dQBXrnyOC0JCAXLXtBfGGMFGWA_2yj3NDBGtcdwqxVG9MgV1\n",
    "!pip install pyngrok\n",
    "!pip install flask_cors\n",
    "!pip install langdetect"
   ]
  },
  {
   "cell_type": "code",
   "execution_count": 1,
   "metadata": {
    "id": "JnO4iVJ5pcwU"
   },
   "outputs": [],
   "source": [
    "# Open the 'intents.json' file in read mode and read its contents into a variable\n",
    "data_file = open('./intents.json').read()"
   ]
  },
  {
   "cell_type": "code",
   "execution_count": 2,
   "metadata": {
    "id": "GdXhfY2o9UtD"
   },
   "outputs": [],
   "source": [
    "import requests\n",
    "\n",
    "# Define the URL for the translation API\n",
    "url = \"https://google-translation-unlimited.p.rapidapi.com/translate\"\n",
    "\n",
    "# Define the headers with required content type and RapidAPI key and host\n",
    "headers = {\n",
    "    \"content-type\": \"application/x-www-form-urlencoded\",\n",
    "    \"X-RapidAPI-Key\": \"c6508df8d2msh28c51d25a65f866p1c9b1ajsn7ff5b8b72944\",\n",
    "    \"X-RapidAPI-Host\": \"google-translation-unlimited.p.rapidapi.com\"\n",
    "}\n"
   ]
  },
  {
   "cell_type": "code",
   "execution_count": 3,
   "metadata": {
    "id": "YzUL6MhceM5I"
   },
   "outputs": [],
   "source": [
    "from langdetect import detect\n",
    "\n",
    "# Function to translate the input text to the specified target language using the Google Translation API.\n",
    "def translate_lang(text, lang):\n",
    "    try:\n",
    "        payload = {\n",
    "          \"texte\": text,\n",
    "          \"to_lang\": lang\n",
    "          }\n",
    "        print(payload)\n",
    "        translation = requests.post(url, data=payload, headers=headers).json()['translation_data']['translation']\n",
    "        print(translation)\n",
    "        return translation\n",
    "    except Exception as e:\n",
    "        print(\"Error:\", e)\n",
    "        return None"
   ]
  },
  {
   "cell_type": "code",
   "execution_count": 4,
   "metadata": {
    "colab": {
     "base_uri": "https://localhost:8080/"
    },
    "id": "5iSxtrQ0BqON",
    "outputId": "1fb792d6-42c7-4000-a251-d408bc014a48"
   },
   "outputs": [
    {
     "name": "stderr",
     "output_type": "stream",
     "text": [
      "[nltk_data] Downloading package punkt to /home/paws/nltk_data...\n",
      "[nltk_data]   Package punkt is already up-to-date!\n",
      "[nltk_data] Downloading package stopwords to /home/paws/nltk_data...\n",
      "[nltk_data]   Package stopwords is already up-to-date!\n",
      "[nltk_data] Downloading package wordnet to /home/paws/nltk_data...\n",
      "[nltk_data]   Package wordnet is already up-to-date!\n"
     ]
    },
    {
     "data": {
      "text/plain": [
       "True"
      ]
     },
     "execution_count": 4,
     "metadata": {},
     "output_type": "execute_result"
    }
   ],
   "source": [
    "# Import necessary modules\n",
    "from nltk.corpus import stopwords\n",
    "from nltk.tokenize import word_tokenize\n",
    "from nltk.stem import WordNetLemmatizer\n",
    "from sklearn.feature_extraction.text import TfidfVectorizer\n",
    "from sklearn.metrics.pairwise import cosine_similarity\n",
    "\n",
    "nltk.download('punkt')\n",
    "nltk.download('stopwords')\n",
    "nltk.download('wordnet')"
   ]
  },
  {
   "cell_type": "code",
   "execution_count": 5,
   "metadata": {
    "id": "ww90mbHCAHTG"
   },
   "outputs": [],
   "source": [
    "# Preprocesses the input text by tokenizing, removing stopwords, and lemmatizing.\n",
    "def preprocess_text(text):\n",
    "    tokens = word_tokenize(text.lower())\n",
    "    stop_words = set(stopwords.words('english'))\n",
    "    tokens = [word for word in tokens if word not in stop_words]\n",
    "    lemmatizer = WordNetLemmatizer()\n",
    "    tokens = [lemmatizer.lemmatize(word) for word in tokens]\n",
    "    preprocessed_text = ' '.join(tokens)\n",
    "    return preprocessed_text\n",
    "\n",
    "# Calculates the cosine similarity between two input texts after preprocessing.\n",
    "def calculate_similarity(text1, text2):\n",
    "    processed_text1 = preprocess_text(text1)\n",
    "    processed_text2 = preprocess_text(text2)\n",
    "\n",
    "    processed_texts = [processed_text1, processed_text2]\n",
    "\n",
    "    vectorizer = TfidfVectorizer()\n",
    "    tfidf_matrix = vectorizer.fit_transform(processed_texts)\n",
    "\n",
    "    similarity_matrix = cosine_similarity(tfidf_matrix)\n",
    "\n",
    "    similarity_score = similarity_matrix[0][1]\n",
    "    return similarity_score\n"
   ]
  },
  {
   "cell_type": "code",
   "execution_count": null,
   "metadata": {
    "colab": {
     "base_uri": "https://localhost:8080/"
    },
    "id": "8WTpz9qlo2dc",
    "outputId": "18436b45-5e12-48c6-e9b4-11e29ddadec5",
    "scrolled": true
   },
   "outputs": [
    {
     "name": "stderr",
     "output_type": "stream",
     "text": [
      "t=2024-03-09T02:42:48+0000 lvl=warn msg=\"ngrok config file found at both XDG and legacy locations, using XDG location\" xdg_path=/home/paws/.config/ngrok/ngrok.yml legacy_path=/home/paws/.ngrok2/ngrok.yml\n"
     ]
    },
    {
     "name": "stdout",
     "output_type": "stream",
     "text": [
      "https://a536-185-15-56-1.ngrok-free.app\n",
      " * Serving Flask app '__main__'\n",
      " * Debug mode: off\n"
     ]
    },
    {
     "name": "stderr",
     "output_type": "stream",
     "text": [
      "\u001b[31m\u001b[1mWARNING: This is a development server. Do not use it in a production deployment. Use a production WSGI server instead.\u001b[0m\n",
      " * Running on http://127.0.0.1:5000\n",
      "\u001b[33mPress CTRL+C to quit\u001b[0m\n"
     ]
    },
    {
     "name": "stdout",
     "output_type": "stream",
     "text": [
      "Hello! Welcome to the Wikipedia editing support chatbot.\n",
      "{'texte': 'hello', 'to_lang': 'en'}\n",
      "hello\n",
      "{'texte': 'Hello! Welcome to the Wikipedia editing support chatbot. How can I assist you today?', 'to_lang': 'fi'}\n"
     ]
    },
    {
     "name": "stderr",
     "output_type": "stream",
     "text": [
      "127.0.0.1 - - [09/Mar/2024 02:43:10] \"POST /query HTTP/1.1\" 200 -\n"
     ]
    },
    {
     "name": "stdout",
     "output_type": "stream",
     "text": [
      "Hei!Tervetuloa Wikipedian editointiin tukikeskusteluun.Kuinka voin auttaa sinua tänään?\n",
      "Hello! Welcome to the Wikipedia editing support chatbot.\n",
      "{'texte': 'heyy', 'to_lang': 'en'}\n",
      "heyy\n",
      "{'texte': None, 'to_lang': 'so'}\n"
     ]
    },
    {
     "name": "stderr",
     "output_type": "stream",
     "text": [
      "127.0.0.1 - - [09/Mar/2024 02:43:22] \"POST /query HTTP/1.1\" 200 -\n"
     ]
    },
    {
     "name": "stdout",
     "output_type": "stream",
     "text": [
      "Error: 'translation_data'\n",
      "Hello! Welcome to the Wikipedia editing support chatbot.\n"
     ]
    },
    {
     "name": "stderr",
     "output_type": "stream",
     "text": [
      "127.0.0.1 - - [09/Mar/2024 02:43:31] \"POST /query HTTP/1.1\" 200 -\n",
      "127.0.0.1 - - [09/Mar/2024 02:43:52] \"\u001b[31m\u001b[1mGET /query HTTP/1.1\u001b[0m\" 405 -\n",
      "127.0.0.1 - - [09/Mar/2024 02:44:33] \"\u001b[31m\u001b[1mGET /query HTTP/1.1\u001b[0m\" 405 -\n",
      "127.0.0.1 - - [09/Mar/2024 02:44:34] \"\u001b[31m\u001b[1mHEAD /query HTTP/1.1\u001b[0m\" 405 -\n",
      "127.0.0.1 - - [09/Mar/2024 02:44:39] \"OPTIONS /query HTTP/1.1\" 200 -\n"
     ]
    },
    {
     "name": "stdout",
     "output_type": "stream",
     "text": [
      "Hello! Welcome to the Wikipedia editing support chatbot.\n",
      "{'texte': 'hello', 'to_lang': 'en'}\n",
      "hello\n",
      "{'texte': 'Hello! Welcome to the Wikipedia editing support chatbot. How can I assist you today?', 'to_lang': 'fi'}\n"
     ]
    },
    {
     "name": "stderr",
     "output_type": "stream",
     "text": [
      "127.0.0.1 - - [09/Mar/2024 02:44:41] \"POST /query HTTP/1.1\" 200 -\n"
     ]
    },
    {
     "name": "stdout",
     "output_type": "stream",
     "text": [
      "Hei!Tervetuloa Wikipedian editointiin tukikeskusteluun.Kuinka voin auttaa sinua tänään?\n"
     ]
    },
    {
     "name": "stderr",
     "output_type": "stream",
     "text": [
      "127.0.0.1 - - [09/Mar/2024 02:45:32] \"OPTIONS /query HTTP/1.1\" 200 -\n"
     ]
    },
    {
     "name": "stdout",
     "output_type": "stream",
     "text": [
      "Hello! Welcome to the Wikipedia editing support chatbot.\n",
      "{'texte': 'hello', 'to_lang': 'en'}\n",
      "hello\n",
      "{'texte': 'Hello! Welcome to the Wikipedia editing support chatbot. How can I assist you today?', 'to_lang': 'fi'}\n"
     ]
    },
    {
     "name": "stderr",
     "output_type": "stream",
     "text": [
      "127.0.0.1 - - [09/Mar/2024 02:45:35] \"POST /query HTTP/1.1\" 200 -\n"
     ]
    },
    {
     "name": "stdout",
     "output_type": "stream",
     "text": [
      "Hei!Tervetuloa Wikipedian editointiin tukikeskusteluun.Kuinka voin auttaa sinua tänään?\n"
     ]
    },
    {
     "name": "stderr",
     "output_type": "stream",
     "text": [
      "127.0.0.1 - - [09/Mar/2024 02:45:52] \"\u001b[31m\u001b[1mHEAD /query HTTP/1.1\u001b[0m\" 405 -\n",
      "127.0.0.1 - - [09/Mar/2024 02:47:26] \"OPTIONS /query HTTP/1.1\" 200 -\n"
     ]
    },
    {
     "name": "stdout",
     "output_type": "stream",
     "text": [
      "Hello! Welcome to the Wikipedia editing support chatbot.\n",
      "{'texte': 'hello', 'to_lang': 'en'}\n",
      "hello\n",
      "{'texte': 'Hello! Welcome to the Wikipedia editing support chatbot. How can I assist you today?', 'to_lang': 'fi'}\n"
     ]
    },
    {
     "name": "stderr",
     "output_type": "stream",
     "text": [
      "127.0.0.1 - - [09/Mar/2024 02:47:28] \"POST /query HTTP/1.1\" 200 -\n"
     ]
    },
    {
     "name": "stdout",
     "output_type": "stream",
     "text": [
      "Hei!Tervetuloa Wikipedian editointiin tukikeskusteluun.Kuinka voin auttaa sinua tänään?\n"
     ]
    },
    {
     "name": "stderr",
     "output_type": "stream",
     "text": [
      "127.0.0.1 - - [09/Mar/2024 02:49:02] \"OPTIONS /query HTTP/1.1\" 200 -\n"
     ]
    },
    {
     "name": "stdout",
     "output_type": "stream",
     "text": [
      "Hello! Welcome to the Wikipedia editing support chatbot.\n",
      "{'texte': 'heyy', 'to_lang': 'en'}\n",
      "heyy\n",
      "{'texte': None, 'to_lang': 'so'}\n"
     ]
    },
    {
     "name": "stderr",
     "output_type": "stream",
     "text": [
      "127.0.0.1 - - [09/Mar/2024 02:49:04] \"POST /query HTTP/1.1\" 200 -\n"
     ]
    },
    {
     "name": "stdout",
     "output_type": "stream",
     "text": [
      "Error: 'translation_data'\n"
     ]
    },
    {
     "name": "stderr",
     "output_type": "stream",
     "text": [
      "127.0.0.1 - - [09/Mar/2024 02:49:15] \"OPTIONS /query HTTP/1.1\" 200 -\n"
     ]
    },
    {
     "name": "stdout",
     "output_type": "stream",
     "text": [
      "Hello! Welcome to the Wikipedia editing support chatbot.\n",
      "{'texte': 'what do i do to edit', 'to_lang': 'en'}\n",
      "what do i do to edit\n",
      "{'texte': \"To edit the whole page, click the 'edit' tab at the top. To edit just one section, click the 'edit' link to the right of the section heading.\", 'to_lang': 'pt'}\n"
     ]
    },
    {
     "name": "stderr",
     "output_type": "stream",
     "text": [
      "127.0.0.1 - - [09/Mar/2024 02:49:18] \"POST /query HTTP/1.1\" 200 -\n"
     ]
    },
    {
     "name": "stdout",
     "output_type": "stream",
     "text": [
      "Para editar a página inteira, clique na guia 'Editar' na parte superior.Para editar apenas uma seção, clique no link 'Editar' à direita do cabeçalho da seção.\n"
     ]
    },
    {
     "name": "stderr",
     "output_type": "stream",
     "text": [
      "127.0.0.1 - - [09/Mar/2024 02:50:29] \"OPTIONS /query HTTP/1.1\" 200 -\n"
     ]
    },
    {
     "name": "stdout",
     "output_type": "stream",
     "text": [
      "Hello! Welcome to the Wikipedia editing support chatbot.\n"
     ]
    },
    {
     "name": "stderr",
     "output_type": "stream",
     "text": [
      "127.0.0.1 - - [09/Mar/2024 02:50:30] \"POST /query HTTP/1.1\" 200 -\n",
      "127.0.0.1 - - [09/Mar/2024 02:50:44] \"OPTIONS /query HTTP/1.1\" 200 -\n"
     ]
    },
    {
     "name": "stdout",
     "output_type": "stream",
     "text": [
      "Hello! Welcome to the Wikipedia editing support chatbot.\n",
      "{'texte': 'hdsuhdddddddddddddddddddddddddddddddddddddddddddddddddd', 'to_lang': 'en'}\n",
      "hdsuhdddddddddddddddddddddddddddddddddddddddddddddddddd\n",
      "{'texte': None, 'to_lang': 'cy'}\n",
      "Error: 'translation_data'\n"
     ]
    },
    {
     "name": "stderr",
     "output_type": "stream",
     "text": [
      "127.0.0.1 - - [09/Mar/2024 02:50:48] \"POST /query HTTP/1.1\" 200 -\n",
      "127.0.0.1 - - [09/Mar/2024 02:52:30] \"OPTIONS /query HTTP/1.1\" 200 -\n"
     ]
    },
    {
     "name": "stdout",
     "output_type": "stream",
     "text": [
      "Hello! Welcome to the Wikipedia editing support chatbot.\n",
      "{'texte': 'hello', 'to_lang': 'en'}\n",
      "hello\n",
      "{'texte': 'Hello! Welcome to the Wikipedia editing support chatbot. How can I assist you today?', 'to_lang': 'fi'}\n"
     ]
    },
    {
     "name": "stderr",
     "output_type": "stream",
     "text": [
      "127.0.0.1 - - [09/Mar/2024 02:52:32] \"POST /query HTTP/1.1\" 200 -\n"
     ]
    },
    {
     "name": "stdout",
     "output_type": "stream",
     "text": [
      "Hei!Tervetuloa Wikipedian editointiin tukikeskusteluun.Kuinka voin auttaa sinua tänään?\n"
     ]
    },
    {
     "name": "stderr",
     "output_type": "stream",
     "text": [
      "127.0.0.1 - - [09/Mar/2024 03:21:21] \"OPTIONS /query HTTP/1.1\" 200 -\n"
     ]
    },
    {
     "name": "stdout",
     "output_type": "stream",
     "text": [
      "Hello! Welcome to the Wikipedia editing support chatbot.\n",
      "{'texte': 'hello', 'to_lang': 'en'}\n",
      "hello\n",
      "{'texte': 'Hello! Welcome to the Wikipedia editing support chatbot. How can I assist you today?', 'to_lang': 'nl'}\n"
     ]
    },
    {
     "name": "stderr",
     "output_type": "stream",
     "text": [
      "127.0.0.1 - - [09/Mar/2024 03:21:25] \"POST /query HTTP/1.1\" 200 -\n"
     ]
    },
    {
     "name": "stdout",
     "output_type": "stream",
     "text": [
      "Hallo!Welkom bij de Wikipedia Editing Support Chatbot.Hoe kan ik u vandaag helpen?\n"
     ]
    },
    {
     "name": "stderr",
     "output_type": "stream",
     "text": [
      "127.0.0.1 - - [09/Mar/2024 03:30:42] \"OPTIONS /query HTTP/1.1\" 200 -\n"
     ]
    },
    {
     "name": "stdout",
     "output_type": "stream",
     "text": [
      "Hello! Welcome to the Wikipedia editing support chatbot.\n",
      "{'texte': 'hello', 'to_lang': 'en'}\n",
      "hello\n",
      "{'texte': 'Hello! Welcome to the Wikipedia editing support chatbot. How can I assist you today?', 'to_lang': 'fi'}\n"
     ]
    },
    {
     "name": "stderr",
     "output_type": "stream",
     "text": [
      "127.0.0.1 - - [09/Mar/2024 03:30:46] \"POST /query HTTP/1.1\" 200 -\n"
     ]
    },
    {
     "name": "stdout",
     "output_type": "stream",
     "text": [
      "Hei!Tervetuloa Wikipedian editointiin tukikeskusteluun.Kuinka voin auttaa sinua tänään?\n"
     ]
    },
    {
     "name": "stderr",
     "output_type": "stream",
     "text": [
      "127.0.0.1 - - [09/Mar/2024 03:31:53] \"OPTIONS /query HTTP/1.1\" 200 -\n"
     ]
    },
    {
     "name": "stdout",
     "output_type": "stream",
     "text": [
      "Hello! Welcome to the Wikipedia editing support chatbot.\n",
      "{'texte': 'hello', 'to_lang': 'en'}\n",
      "hello\n",
      "{'texte': 'Hello! Welcome to the Wikipedia editing support chatbot. How can I assist you today?', 'to_lang': 'fi'}\n"
     ]
    },
    {
     "name": "stderr",
     "output_type": "stream",
     "text": [
      "127.0.0.1 - - [09/Mar/2024 03:31:57] \"POST /query HTTP/1.1\" 200 -\n"
     ]
    },
    {
     "name": "stdout",
     "output_type": "stream",
     "text": [
      "Hei!Tervetuloa Wikipedian editointiin tukikeskusteluun.Kuinka voin auttaa sinua tänään?\n"
     ]
    },
    {
     "name": "stderr",
     "output_type": "stream",
     "text": [
      "127.0.0.1 - - [09/Mar/2024 03:32:39] \"OPTIONS /query HTTP/1.1\" 200 -\n"
     ]
    },
    {
     "name": "stdout",
     "output_type": "stream",
     "text": [
      "Hello! Welcome to the Wikipedia editing support chatbot.\n",
      "{'texte': 'hello', 'to_lang': 'en'}\n",
      "hello\n",
      "{'texte': 'Hello! Welcome to the Wikipedia editing support chatbot. How can I assist you today?', 'to_lang': 'fi'}\n"
     ]
    },
    {
     "name": "stderr",
     "output_type": "stream",
     "text": [
      "127.0.0.1 - - [09/Mar/2024 03:32:41] \"POST /query HTTP/1.1\" 200 -\n"
     ]
    },
    {
     "name": "stdout",
     "output_type": "stream",
     "text": [
      "Hei!Tervetuloa Wikipedian editointiin tukikeskusteluun.Kuinka voin auttaa sinua tänään?\n"
     ]
    },
    {
     "name": "stderr",
     "output_type": "stream",
     "text": [
      "127.0.0.1 - - [09/Mar/2024 03:33:04] \"OPTIONS /query HTTP/1.1\" 200 -\n"
     ]
    },
    {
     "name": "stdout",
     "output_type": "stream",
     "text": [
      "Hello! Welcome to the Wikipedia editing support chatbot.\n",
      "{'texte': 'hello', 'to_lang': 'en'}\n",
      "hello\n",
      "{'texte': 'Hello! Welcome to the Wikipedia editing support chatbot. How can I assist you today?', 'to_lang': 'fi'}\n"
     ]
    },
    {
     "name": "stderr",
     "output_type": "stream",
     "text": [
      "127.0.0.1 - - [09/Mar/2024 03:33:06] \"POST /query HTTP/1.1\" 200 -\n"
     ]
    },
    {
     "name": "stdout",
     "output_type": "stream",
     "text": [
      "Hei!Tervetuloa Wikipedian editointiin tukikeskusteluun.Kuinka voin auttaa sinua tänään?\n"
     ]
    },
    {
     "name": "stderr",
     "output_type": "stream",
     "text": [
      "127.0.0.1 - - [09/Mar/2024 03:34:04] \"OPTIONS /query HTTP/1.1\" 200 -\n"
     ]
    },
    {
     "name": "stdout",
     "output_type": "stream",
     "text": [
      "Hello! Welcome to the Wikipedia editing support chatbot.\n",
      "{'texte': 'hello', 'to_lang': 'en'}\n",
      "hello\n",
      "{'texte': 'Hello! Welcome to the Wikipedia editing support chatbot. How can I assist you today?', 'to_lang': 'fi'}\n"
     ]
    },
    {
     "name": "stderr",
     "output_type": "stream",
     "text": [
      "127.0.0.1 - - [09/Mar/2024 03:34:06] \"POST /query HTTP/1.1\" 200 -\n"
     ]
    },
    {
     "name": "stdout",
     "output_type": "stream",
     "text": [
      "Hei!Tervetuloa Wikipedian editointiin tukikeskusteluun.Kuinka voin auttaa sinua tänään?\n"
     ]
    },
    {
     "name": "stderr",
     "output_type": "stream",
     "text": [
      "127.0.0.1 - - [09/Mar/2024 03:36:41] \"OPTIONS /query HTTP/1.1\" 200 -\n"
     ]
    },
    {
     "name": "stdout",
     "output_type": "stream",
     "text": [
      "Hello! Welcome to the Wikipedia editing support chatbot.\n",
      "{'texte': 'hello', 'to_lang': 'en'}\n",
      "hello\n",
      "{'texte': 'Hello! Welcome to the Wikipedia editing support chatbot. How can I assist you today?', 'to_lang': 'fi'}\n"
     ]
    },
    {
     "name": "stderr",
     "output_type": "stream",
     "text": [
      "127.0.0.1 - - [09/Mar/2024 03:36:43] \"POST /query HTTP/1.1\" 200 -\n"
     ]
    },
    {
     "name": "stdout",
     "output_type": "stream",
     "text": [
      "Hei!Tervetuloa Wikipedian editointiin tukikeskusteluun.Kuinka voin auttaa sinua tänään?\n"
     ]
    },
    {
     "name": "stderr",
     "output_type": "stream",
     "text": [
      "127.0.0.1 - - [09/Mar/2024 03:37:33] \"OPTIONS /query HTTP/1.1\" 200 -\n"
     ]
    },
    {
     "name": "stdout",
     "output_type": "stream",
     "text": [
      "Hello! Welcome to the Wikipedia editing support chatbot.\n",
      "{'texte': 'hello', 'to_lang': 'en'}\n",
      "hello\n",
      "{'texte': 'Hello! Welcome to the Wikipedia editing support chatbot. How can I assist you today?', 'to_lang': 'fi'}\n"
     ]
    },
    {
     "name": "stderr",
     "output_type": "stream",
     "text": [
      "127.0.0.1 - - [09/Mar/2024 03:37:35] \"POST /query HTTP/1.1\" 200 -\n"
     ]
    },
    {
     "name": "stdout",
     "output_type": "stream",
     "text": [
      "Hei!Tervetuloa Wikipedian editointiin tukikeskusteluun.Kuinka voin auttaa sinua tänään?\n"
     ]
    },
    {
     "name": "stderr",
     "output_type": "stream",
     "text": [
      "127.0.0.1 - - [09/Mar/2024 03:39:23] \"OPTIONS /query HTTP/1.1\" 200 -\n"
     ]
    },
    {
     "name": "stdout",
     "output_type": "stream",
     "text": [
      "Hello! Welcome to the Wikipedia editing support chatbot.\n",
      "{'texte': 'hello', 'to_lang': 'en'}\n",
      "hello\n",
      "{'texte': 'Hello! Welcome to the Wikipedia editing support chatbot. How can I assist you today?', 'to_lang': 'fi'}\n"
     ]
    },
    {
     "name": "stderr",
     "output_type": "stream",
     "text": [
      "127.0.0.1 - - [09/Mar/2024 03:39:26] \"POST /query HTTP/1.1\" 200 -\n"
     ]
    },
    {
     "name": "stdout",
     "output_type": "stream",
     "text": [
      "Hei!Tervetuloa Wikipedian editointiin tukikeskusteluun.Kuinka voin auttaa sinua tänään?\n"
     ]
    },
    {
     "name": "stderr",
     "output_type": "stream",
     "text": [
      "127.0.0.1 - - [09/Mar/2024 03:43:06] \"OPTIONS /query HTTP/1.1\" 200 -\n"
     ]
    },
    {
     "name": "stdout",
     "output_type": "stream",
     "text": [
      "Hello! Welcome to the Wikipedia editing support chatbot.\n",
      "{'texte': 'hello', 'to_lang': 'en'}\n",
      "hello\n",
      "{'texte': 'Hello! Welcome to the Wikipedia editing support chatbot. How can I assist you today?', 'to_lang': 'fi'}\n"
     ]
    },
    {
     "name": "stderr",
     "output_type": "stream",
     "text": [
      "127.0.0.1 - - [09/Mar/2024 03:43:08] \"POST /query HTTP/1.1\" 200 -\n"
     ]
    },
    {
     "name": "stdout",
     "output_type": "stream",
     "text": [
      "Hei!Tervetuloa Wikipedian editointiin tukikeskusteluun.Kuinka voin auttaa sinua tänään?\n"
     ]
    },
    {
     "name": "stderr",
     "output_type": "stream",
     "text": [
      "127.0.0.1 - - [09/Mar/2024 03:45:55] \"OPTIONS /query HTTP/1.1\" 200 -\n"
     ]
    },
    {
     "name": "stdout",
     "output_type": "stream",
     "text": [
      "Hello! Welcome to the Wikipedia editing support chatbot.\n",
      "{'texte': 'hello', 'to_lang': 'en'}\n",
      "hello\n",
      "{'texte': 'Hello! Welcome to the Wikipedia editing support chatbot. How can I assist you today?', 'to_lang': 'nl'}\n"
     ]
    },
    {
     "name": "stderr",
     "output_type": "stream",
     "text": [
      "127.0.0.1 - - [09/Mar/2024 03:45:57] \"POST /query HTTP/1.1\" 200 -\n"
     ]
    },
    {
     "name": "stdout",
     "output_type": "stream",
     "text": [
      "Hallo!Welkom bij de Wikipedia Editing Support Chatbot.Hoe kan ik u vandaag helpen?\n"
     ]
    },
    {
     "name": "stderr",
     "output_type": "stream",
     "text": [
      "127.0.0.1 - - [09/Mar/2024 03:48:46] \"OPTIONS /query HTTP/1.1\" 200 -\n"
     ]
    },
    {
     "name": "stdout",
     "output_type": "stream",
     "text": [
      "Hello! Welcome to the Wikipedia editing support chatbot.\n",
      "{'texte': 'hello', 'to_lang': 'en'}\n",
      "hello\n",
      "{'texte': 'Hello! Welcome to the Wikipedia editing support chatbot. How can I assist you today?', 'to_lang': 'fi'}\n"
     ]
    },
    {
     "name": "stderr",
     "output_type": "stream",
     "text": [
      "127.0.0.1 - - [09/Mar/2024 03:48:48] \"POST /query HTTP/1.1\" 200 -\n"
     ]
    },
    {
     "name": "stdout",
     "output_type": "stream",
     "text": [
      "Hei!Tervetuloa Wikipedian editointiin tukikeskusteluun.Kuinka voin auttaa sinua tänään?\n"
     ]
    },
    {
     "name": "stderr",
     "output_type": "stream",
     "text": [
      "127.0.0.1 - - [09/Mar/2024 03:53:33] \"OPTIONS /query HTTP/1.1\" 200 -\n"
     ]
    },
    {
     "name": "stdout",
     "output_type": "stream",
     "text": [
      "Hello! Welcome to the Wikipedia editing support chatbot.\n"
     ]
    },
    {
     "name": "stderr",
     "output_type": "stream",
     "text": [
      "127.0.0.1 - - [09/Mar/2024 03:53:35] \"POST /query HTTP/1.1\" 200 -\n",
      "127.0.0.1 - - [09/Mar/2024 03:54:10] \"OPTIONS /query HTTP/1.1\" 200 -\n"
     ]
    },
    {
     "name": "stdout",
     "output_type": "stream",
     "text": [
      "Hello! Welcome to the Wikipedia editing support chatbot.\n",
      "{'texte': 'hey', 'to_lang': 'en'}\n",
      "hey\n",
      "{'texte': 'Hello! Welcome to the Wikipedia editing support chatbot. How can I assist you today?', 'to_lang': 'so'}\n"
     ]
    },
    {
     "name": "stderr",
     "output_type": "stream",
     "text": [
      "127.0.0.1 - - [09/Mar/2024 03:54:12] \"POST /query HTTP/1.1\" 200 -\n"
     ]
    },
    {
     "name": "stdout",
     "output_type": "stream",
     "text": [
      "Salaan!Ku soo dhawow Wikipedia tafatirka Taageerada Taageerada.Sideen kuu caawin karaa maanta?\n"
     ]
    },
    {
     "name": "stderr",
     "output_type": "stream",
     "text": [
      "127.0.0.1 - - [09/Mar/2024 03:57:37] \"OPTIONS /query HTTP/1.1\" 200 -\n"
     ]
    },
    {
     "name": "stdout",
     "output_type": "stream",
     "text": [
      "Hello! Welcome to the Wikipedia editing support chatbot.\n"
     ]
    },
    {
     "name": "stderr",
     "output_type": "stream",
     "text": [
      "127.0.0.1 - - [09/Mar/2024 03:57:39] \"POST /query HTTP/1.1\" 200 -\n",
      "127.0.0.1 - - [09/Mar/2024 04:02:46] \"OPTIONS /query HTTP/1.1\" 200 -\n"
     ]
    },
    {
     "name": "stdout",
     "output_type": "stream",
     "text": [
      "Hello! Welcome to the Wikipedia editing support chatbot.\n"
     ]
    },
    {
     "name": "stderr",
     "output_type": "stream",
     "text": [
      "127.0.0.1 - - [09/Mar/2024 04:02:47] \"POST /query HTTP/1.1\" 200 -\n",
      "127.0.0.1 - - [09/Mar/2024 04:04:49] \"OPTIONS /query HTTP/1.1\" 200 -\n"
     ]
    },
    {
     "name": "stdout",
     "output_type": "stream",
     "text": [
      "Hello! Welcome to the Wikipedia editing support chatbot.\n"
     ]
    },
    {
     "name": "stderr",
     "output_type": "stream",
     "text": [
      "127.0.0.1 - - [09/Mar/2024 04:04:50] \"POST /query HTTP/1.1\" 200 -\n",
      "127.0.0.1 - - [09/Mar/2024 04:06:47] \"OPTIONS /query HTTP/1.1\" 200 -\n"
     ]
    },
    {
     "name": "stdout",
     "output_type": "stream",
     "text": [
      "Hello! Welcome to the Wikipedia editing support chatbot.\n",
      "{'texte': 'helo', 'to_lang': 'en'}\n",
      "helo\n",
      "{'texte': None, 'to_lang': 'nl'}\n"
     ]
    },
    {
     "name": "stderr",
     "output_type": "stream",
     "text": [
      "127.0.0.1 - - [09/Mar/2024 04:06:50] \"POST /query HTTP/1.1\" 200 -\n"
     ]
    },
    {
     "name": "stdout",
     "output_type": "stream",
     "text": [
      "Error: 'translation_data'\n",
      "Hello! Welcome to the Wikipedia editing support chatbot.\n",
      "{'texte': 'hello', 'to_lang': 'en'}\n",
      "hello\n",
      "{'texte': 'Hello! Welcome to the Wikipedia editing support chatbot. How can I assist you today?', 'to_lang': 'nl'}\n"
     ]
    },
    {
     "name": "stderr",
     "output_type": "stream",
     "text": [
      "127.0.0.1 - - [09/Mar/2024 04:06:54] \"POST /query HTTP/1.1\" 200 -\n"
     ]
    },
    {
     "name": "stdout",
     "output_type": "stream",
     "text": [
      "Hallo!Welkom bij de Wikipedia Editing Support Chatbot.Hoe kan ik u vandaag helpen?\n"
     ]
    },
    {
     "name": "stderr",
     "output_type": "stream",
     "text": [
      "127.0.0.1 - - [09/Mar/2024 04:08:34] \"OPTIONS /query HTTP/1.1\" 200 -\n"
     ]
    },
    {
     "name": "stdout",
     "output_type": "stream",
     "text": [
      "Hello! Welcome to the Wikipedia editing support chatbot.\n"
     ]
    },
    {
     "name": "stderr",
     "output_type": "stream",
     "text": [
      "127.0.0.1 - - [09/Mar/2024 04:08:36] \"POST /query HTTP/1.1\" 200 -\n",
      "127.0.0.1 - - [09/Mar/2024 04:08:59] \"OPTIONS /query HTTP/1.1\" 200 -\n"
     ]
    },
    {
     "name": "stdout",
     "output_type": "stream",
     "text": [
      "Hello! Welcome to the Wikipedia editing support chatbot.\n"
     ]
    },
    {
     "name": "stderr",
     "output_type": "stream",
     "text": [
      "127.0.0.1 - - [09/Mar/2024 04:09:01] \"POST /query HTTP/1.1\" 200 -\n",
      "127.0.0.1 - - [09/Mar/2024 04:10:47] \"OPTIONS /query HTTP/1.1\" 200 -\n"
     ]
    },
    {
     "name": "stdout",
     "output_type": "stream",
     "text": [
      "Hello! Welcome to the Wikipedia editing support chatbot.\n",
      "{'texte': 'hey', 'to_lang': 'en'}\n",
      "hey\n",
      "{'texte': 'Hello! Welcome to the Wikipedia editing support chatbot. How can I assist you today?', 'to_lang': 'so'}\n"
     ]
    },
    {
     "name": "stderr",
     "output_type": "stream",
     "text": [
      "127.0.0.1 - - [09/Mar/2024 04:10:49] \"POST /query HTTP/1.1\" 200 -\n"
     ]
    },
    {
     "name": "stdout",
     "output_type": "stream",
     "text": [
      "Salaan!Ku soo dhawow Wikipedia tafatirka Taageerada Taageerada.Sideen kuu caawin karaa maanta?\n"
     ]
    },
    {
     "name": "stderr",
     "output_type": "stream",
     "text": [
      "127.0.0.1 - - [09/Mar/2024 04:11:56] \"OPTIONS /query HTTP/1.1\" 200 -\n"
     ]
    },
    {
     "name": "stdout",
     "output_type": "stream",
     "text": [
      "Hello! Welcome to the Wikipedia editing support chatbot.\n"
     ]
    },
    {
     "name": "stderr",
     "output_type": "stream",
     "text": [
      "127.0.0.1 - - [09/Mar/2024 04:11:57] \"POST /query HTTP/1.1\" 200 -\n",
      "127.0.0.1 - - [09/Mar/2024 04:12:11] \"OPTIONS /query HTTP/1.1\" 200 -\n"
     ]
    },
    {
     "name": "stdout",
     "output_type": "stream",
     "text": [
      "Hello! Welcome to the Wikipedia editing support chatbot.\n"
     ]
    },
    {
     "name": "stderr",
     "output_type": "stream",
     "text": [
      "127.0.0.1 - - [09/Mar/2024 04:12:13] \"POST /query HTTP/1.1\" 200 -\n",
      "127.0.0.1 - - [09/Mar/2024 04:14:02] \"OPTIONS /query HTTP/1.1\" 200 -\n"
     ]
    },
    {
     "name": "stdout",
     "output_type": "stream",
     "text": [
      "Hello! Welcome to the Wikipedia editing support chatbot.\n"
     ]
    },
    {
     "name": "stderr",
     "output_type": "stream",
     "text": [
      "127.0.0.1 - - [09/Mar/2024 04:14:04] \"POST /query HTTP/1.1\" 200 -\n",
      "127.0.0.1 - - [09/Mar/2024 04:16:09] \"OPTIONS /query HTTP/1.1\" 200 -\n"
     ]
    },
    {
     "name": "stdout",
     "output_type": "stream",
     "text": [
      "Hello! Welcome to the Wikipedia editing support chatbot.\n"
     ]
    },
    {
     "name": "stderr",
     "output_type": "stream",
     "text": [
      "127.0.0.1 - - [09/Mar/2024 04:16:10] \"POST /query HTTP/1.1\" 200 -\n",
      "127.0.0.1 - - [09/Mar/2024 04:19:25] \"OPTIONS /query HTTP/1.1\" 200 -\n"
     ]
    },
    {
     "name": "stdout",
     "output_type": "stream",
     "text": [
      "Hello! Welcome to the Wikipedia editing support chatbot.\n"
     ]
    },
    {
     "name": "stderr",
     "output_type": "stream",
     "text": [
      "127.0.0.1 - - [09/Mar/2024 04:19:26] \"POST /query HTTP/1.1\" 200 -\n",
      "127.0.0.1 - - [09/Mar/2024 04:22:35] \"OPTIONS /query HTTP/1.1\" 200 -\n"
     ]
    },
    {
     "name": "stdout",
     "output_type": "stream",
     "text": [
      "Hello! Welcome to the Wikipedia editing support chatbot.\n",
      "{'texte': 'hey', 'to_lang': 'en'}\n",
      "hey\n",
      "{'texte': 'Hello! Welcome to the Wikipedia editing support chatbot. How can I assist you today?', 'to_lang': 'so'}\n"
     ]
    },
    {
     "name": "stderr",
     "output_type": "stream",
     "text": [
      "127.0.0.1 - - [09/Mar/2024 04:22:39] \"POST /query HTTP/1.1\" 200 -\n"
     ]
    },
    {
     "name": "stdout",
     "output_type": "stream",
     "text": [
      "Salaan!Ku soo dhawow Wikipedia tafatirka Taageerada Taageerada.Sideen kuu caawin karaa maanta?\n"
     ]
    },
    {
     "name": "stderr",
     "output_type": "stream",
     "text": [
      "127.0.0.1 - - [09/Mar/2024 04:26:33] \"OPTIONS /query HTTP/1.1\" 200 -\n"
     ]
    },
    {
     "name": "stdout",
     "output_type": "stream",
     "text": [
      "Hello! Welcome to the Wikipedia editing support chatbot.\n"
     ]
    },
    {
     "name": "stderr",
     "output_type": "stream",
     "text": [
      "127.0.0.1 - - [09/Mar/2024 04:26:34] \"POST /query HTTP/1.1\" 200 -\n",
      "127.0.0.1 - - [09/Mar/2024 04:29:28] \"OPTIONS /query HTTP/1.1\" 200 -\n"
     ]
    },
    {
     "name": "stdout",
     "output_type": "stream",
     "text": [
      "Hello! Welcome to the Wikipedia editing support chatbot.\n",
      "{'texte': 'hey', 'to_lang': 'en'}\n",
      "hey\n",
      "{'texte': 'Hello! Welcome to the Wikipedia editing support chatbot. How can I assist you today?', 'to_lang': 'so'}\n"
     ]
    },
    {
     "name": "stderr",
     "output_type": "stream",
     "text": [
      "127.0.0.1 - - [09/Mar/2024 04:29:32] \"POST /query HTTP/1.1\" 200 -\n"
     ]
    },
    {
     "name": "stdout",
     "output_type": "stream",
     "text": [
      "Salaan!Ku soo dhawow Wikipedia tafatirka Taageerada Taageerada.Sideen kuu caawin karaa maanta?\n"
     ]
    },
    {
     "name": "stderr",
     "output_type": "stream",
     "text": [
      "127.0.0.1 - - [09/Mar/2024 04:31:03] \"OPTIONS /query HTTP/1.1\" 200 -\n"
     ]
    },
    {
     "name": "stdout",
     "output_type": "stream",
     "text": [
      "Hello! Welcome to the Wikipedia editing support chatbot.\n"
     ]
    },
    {
     "name": "stderr",
     "output_type": "stream",
     "text": [
      "127.0.0.1 - - [09/Mar/2024 04:31:04] \"POST /query HTTP/1.1\" 200 -\n",
      "127.0.0.1 - - [09/Mar/2024 04:36:00] \"OPTIONS /query HTTP/1.1\" 200 -\n"
     ]
    },
    {
     "name": "stdout",
     "output_type": "stream",
     "text": [
      "Hello! Welcome to the Wikipedia editing support chatbot.\n",
      "{'texte': 'dddddddddddd', 'to_lang': 'en'}\n",
      "ddddddddddddddddddddddddddddddddddddddddddddddddddddddddddddddddddddddddddddddddddddddddddddddddddddddddddddddddddw\n",
      "Hello! Welcome to the Wikipedia editing support chatbot.\n",
      "{'texte': 'ddddddddddddddddddddddddddddddddddddddddddddddddd', 'to_lang': 'en'}\n",
      "{'texte': None, 'to_lang': 'cy'}\n",
      "DDDDDDDGDDGDDGDDGNODYPDDGDDGDDGDDGDDGDDGDDGDDGDDGDDGDDGDGDDGDDGDDGE\n"
     ]
    },
    {
     "name": "stderr",
     "output_type": "stream",
     "text": [
      "127.0.0.1 - - [09/Mar/2024 04:36:05] \"POST /query HTTP/1.1\" 200 -\n"
     ]
    },
    {
     "name": "stdout",
     "output_type": "stream",
     "text": [
      "Error: 'translation_data'\n"
     ]
    },
    {
     "name": "stderr",
     "output_type": "stream",
     "text": [
      "127.0.0.1 - - [09/Mar/2024 04:36:06] \"POST /query HTTP/1.1\" 200 -\n"
     ]
    },
    {
     "name": "stdout",
     "output_type": "stream",
     "text": [
      "{'texte': None, 'to_lang': 'cy'}\n",
      "Error: 'translation_data'\n"
     ]
    },
    {
     "name": "stderr",
     "output_type": "stream",
     "text": [
      "127.0.0.1 - - [09/Mar/2024 04:37:35] \"OPTIONS /query HTTP/1.1\" 200 -\n"
     ]
    },
    {
     "name": "stdout",
     "output_type": "stream",
     "text": [
      "Hello! Welcome to the Wikipedia editing support chatbot.\n"
     ]
    },
    {
     "name": "stderr",
     "output_type": "stream",
     "text": [
      "127.0.0.1 - - [09/Mar/2024 04:37:36] \"POST /query HTTP/1.1\" 200 -\n",
      "127.0.0.1 - - [09/Mar/2024 04:37:36] \"OPTIONS /query HTTP/1.1\" 200 -\n"
     ]
    },
    {
     "name": "stdout",
     "output_type": "stream",
     "text": [
      "Hello! Welcome to the Wikipedia editing support chatbot.\n",
      "{'texte': 'ddddddddddddddddddddddddddddddddddddddddddddd', 'to_lang': 'en'}\n",
      "DDDDDDDDDGDDGDDGDED\n",
      "{'texte': None, 'to_lang': 'cy'}\n"
     ]
    },
    {
     "name": "stderr",
     "output_type": "stream",
     "text": [
      "127.0.0.1 - - [09/Mar/2024 04:37:39] \"POST /query HTTP/1.1\" 200 -\n"
     ]
    },
    {
     "name": "stdout",
     "output_type": "stream",
     "text": [
      "Error: 'translation_data'\n"
     ]
    },
    {
     "name": "stderr",
     "output_type": "stream",
     "text": [
      "127.0.0.1 - - [09/Mar/2024 04:38:34] \"OPTIONS /query HTTP/1.1\" 200 -\n"
     ]
    },
    {
     "name": "stdout",
     "output_type": "stream",
     "text": [
      "Hello! Welcome to the Wikipedia editing support chatbot.\n"
     ]
    },
    {
     "name": "stderr",
     "output_type": "stream",
     "text": [
      "127.0.0.1 - - [09/Mar/2024 04:38:35] \"POST /query HTTP/1.1\" 200 -\n",
      "127.0.0.1 - - [09/Mar/2024 04:38:39] \"OPTIONS /query HTTP/1.1\" 200 -\n"
     ]
    },
    {
     "name": "stdout",
     "output_type": "stream",
     "text": [
      "Hello! Welcome to the Wikipedia editing support chatbot.\n",
      "{'texte': 'dddddddddddddddddddddddddddddddddddddddddddddddd', 'to_lang': 'en'}\n",
      "DDDDDDDDGDDGDDGDDEMYPDDGDDGDDGDDGDGDDDGDDGDDGDDGDDGDDGDDGE\n"
     ]
    },
    {
     "name": "stderr",
     "output_type": "stream",
     "text": [
      "127.0.0.1 - - [09/Mar/2024 04:38:42] \"POST /query HTTP/1.1\" 200 -\n"
     ]
    },
    {
     "name": "stdout",
     "output_type": "stream",
     "text": [
      "{'texte': None, 'to_lang': 'cy'}\n",
      "Error: 'translation_data'\n"
     ]
    },
    {
     "name": "stderr",
     "output_type": "stream",
     "text": [
      "127.0.0.1 - - [09/Mar/2024 04:42:22] \"OPTIONS /query HTTP/1.1\" 200 -\n"
     ]
    },
    {
     "name": "stdout",
     "output_type": "stream",
     "text": [
      "Hello! Welcome to the Wikipedia editing support chatbot.\n",
      "{'texte': 'dddddddddddddddddddddddddddddddddddddddddddd', 'to_lang': 'en'}\n",
      "DDDDDDDDDDHEDGDDGDED\n",
      "{'texte': None, 'to_lang': 'cy'}\n"
     ]
    },
    {
     "name": "stderr",
     "output_type": "stream",
     "text": [
      "127.0.0.1 - - [09/Mar/2024 04:42:24] \"POST /query HTTP/1.1\" 200 -\n"
     ]
    },
    {
     "name": "stdout",
     "output_type": "stream",
     "text": [
      "Error: 'translation_data'\n"
     ]
    },
    {
     "name": "stderr",
     "output_type": "stream",
     "text": [
      "127.0.0.1 - - [09/Mar/2024 04:42:37] \"OPTIONS /query HTTP/1.1\" 200 -\n"
     ]
    },
    {
     "name": "stdout",
     "output_type": "stream",
     "text": [
      "Hello! Welcome to the Wikipedia editing support chatbot.\n",
      "{'texte': 'gy', 'to_lang': 'en'}\n",
      "gy\n",
      "{'texte': None, 'to_lang': 'cy'}\n"
     ]
    },
    {
     "name": "stderr",
     "output_type": "stream",
     "text": [
      "127.0.0.1 - - [09/Mar/2024 04:42:39] \"POST /query HTTP/1.1\" 200 -\n"
     ]
    },
    {
     "name": "stdout",
     "output_type": "stream",
     "text": [
      "Error: 'translation_data'\n"
     ]
    },
    {
     "name": "stderr",
     "output_type": "stream",
     "text": [
      "127.0.0.1 - - [09/Mar/2024 04:43:27] \"OPTIONS /query HTTP/1.1\" 200 -\n"
     ]
    },
    {
     "name": "stdout",
     "output_type": "stream",
     "text": [
      "Hello! Welcome to the Wikipedia editing support chatbot.\n",
      "{'texte': 'ddddddd', 'to_lang': 'en'}\n",
      "ddddddd\n",
      "{'texte': None, 'to_lang': 'cy'}\n",
      "Hello! Welcome to the Wikipedia editing support chatbot.\n",
      "{'texte': 'dddddddddddddddddddddddddddddddddd', 'to_lang': 'en'}\n"
     ]
    },
    {
     "name": "stderr",
     "output_type": "stream",
     "text": [
      "127.0.0.1 - - [09/Mar/2024 04:43:29] \"POST /query HTTP/1.1\" 200 -\n"
     ]
    },
    {
     "name": "stdout",
     "output_type": "stream",
     "text": [
      "Error: 'translation_data'\n",
      "dddddddddddddddddddddddddddddddddd\n"
     ]
    },
    {
     "name": "stderr",
     "output_type": "stream",
     "text": [
      "127.0.0.1 - - [09/Mar/2024 04:43:32] \"POST /query HTTP/1.1\" 200 -\n"
     ]
    },
    {
     "name": "stdout",
     "output_type": "stream",
     "text": [
      "{'texte': None, 'to_lang': 'cy'}\n",
      "Error: 'translation_data'\n"
     ]
    },
    {
     "name": "stderr",
     "output_type": "stream",
     "text": [
      "127.0.0.1 - - [09/Mar/2024 04:47:45] \"OPTIONS /query HTTP/1.1\" 200 -\n"
     ]
    },
    {
     "name": "stdout",
     "output_type": "stream",
     "text": [
      "Hello! Welcome to the Wikipedia editing support chatbot.\n",
      "{'texte': 'hey', 'to_lang': 'en'}\n",
      "hey\n",
      "{'texte': 'Hello! Welcome to the Wikipedia editing support chatbot. How can I assist you today?', 'to_lang': 'so'}\n"
     ]
    },
    {
     "name": "stderr",
     "output_type": "stream",
     "text": [
      "127.0.0.1 - - [09/Mar/2024 04:47:47] \"POST /query HTTP/1.1\" 200 -\n"
     ]
    },
    {
     "name": "stdout",
     "output_type": "stream",
     "text": [
      "Salaan!Ku soo dhawow Wikipedia tafatirka Taageerada Taageerada.Sideen kuu caawin karaa maanta?\n"
     ]
    },
    {
     "name": "stderr",
     "output_type": "stream",
     "text": [
      "127.0.0.1 - - [09/Mar/2024 04:57:35] \"OPTIONS /query HTTP/1.1\" 200 -\n"
     ]
    },
    {
     "name": "stdout",
     "output_type": "stream",
     "text": [
      "Hello! Welcome to the Wikipedia editing support chatbot.\n",
      "{'texte': 'hello', 'to_lang': 'en'}\n",
      "hello\n",
      "{'texte': 'Hello! Welcome to the Wikipedia editing support chatbot. How can I assist you today?', 'to_lang': 'fi'}\n"
     ]
    },
    {
     "name": "stderr",
     "output_type": "stream",
     "text": [
      "127.0.0.1 - - [09/Mar/2024 04:57:39] \"POST /query HTTP/1.1\" 200 -\n"
     ]
    },
    {
     "name": "stdout",
     "output_type": "stream",
     "text": [
      "Hei!Tervetuloa Wikipedian editointiin tukikeskusteluun.Kuinka voin auttaa sinua tänään?\n"
     ]
    },
    {
     "name": "stderr",
     "output_type": "stream",
     "text": [
      "127.0.0.1 - - [09/Mar/2024 04:59:16] \"OPTIONS /query HTTP/1.1\" 200 -\n"
     ]
    },
    {
     "name": "stdout",
     "output_type": "stream",
     "text": [
      "Hello! Welcome to the Wikipedia editing support chatbot.\n"
     ]
    },
    {
     "name": "stderr",
     "output_type": "stream",
     "text": [
      "127.0.0.1 - - [09/Mar/2024 04:59:17] \"POST /query HTTP/1.1\" 200 -\n",
      "127.0.0.1 - - [09/Mar/2024 04:59:17] \"OPTIONS /query HTTP/1.1\" 200 -\n"
     ]
    },
    {
     "name": "stdout",
     "output_type": "stream",
     "text": [
      "Hello! Welcome to the Wikipedia editing support chatbot.\n",
      "{'texte': 'heyyyyy', 'to_lang': 'en'}\n",
      "heyyyyy\n",
      "{'texte': None, 'to_lang': 'fi'}\n"
     ]
    },
    {
     "name": "stderr",
     "output_type": "stream",
     "text": [
      "127.0.0.1 - - [09/Mar/2024 04:59:21] \"POST /query HTTP/1.1\" 200 -\n"
     ]
    },
    {
     "name": "stdout",
     "output_type": "stream",
     "text": [
      "Error: 'translation_data'\n"
     ]
    },
    {
     "name": "stderr",
     "output_type": "stream",
     "text": [
      "127.0.0.1 - - [09/Mar/2024 04:59:24] \"OPTIONS /query HTTP/1.1\" 200 -\n"
     ]
    },
    {
     "name": "stdout",
     "output_type": "stream",
     "text": [
      "Hello! Welcome to the Wikipedia editing support chatbot.\n",
      "{'texte': 'sjdaaaaajsdehfbhewbfhhefhwefhey4fhe4tf\\\\', 'to_lang': 'en'}\n",
      "SJDAAAAJSDEHFBHEWBFHHEFHWEFHEY4FHE4TF \\\n",
      "{'texte': None, 'to_lang': 'so'}\n"
     ]
    },
    {
     "name": "stderr",
     "output_type": "stream",
     "text": [
      "127.0.0.1 - - [09/Mar/2024 04:59:26] \"POST /query HTTP/1.1\" 200 -\n"
     ]
    },
    {
     "name": "stdout",
     "output_type": "stream",
     "text": [
      "Error: 'translation_data'\n"
     ]
    },
    {
     "name": "stderr",
     "output_type": "stream",
     "text": [
      "127.0.0.1 - - [09/Mar/2024 05:00:33] \"OPTIONS /query HTTP/1.1\" 200 -\n"
     ]
    },
    {
     "name": "stdout",
     "output_type": "stream",
     "text": [
      "Hello! Welcome to the Wikipedia editing support chatbot.\n",
      "{'texte': 'hello', 'to_lang': 'en'}\n",
      "hello\n",
      "{'texte': 'Hello! Welcome to the Wikipedia editing support chatbot. How can I assist you today?', 'to_lang': 'nl'}\n"
     ]
    },
    {
     "name": "stderr",
     "output_type": "stream",
     "text": [
      "127.0.0.1 - - [09/Mar/2024 05:00:35] \"POST /query HTTP/1.1\" 200 -\n"
     ]
    },
    {
     "name": "stdout",
     "output_type": "stream",
     "text": [
      "Hallo!Welkom bij de Wikipedia Editing Support Chatbot.Hoe kan ik u vandaag helpen?\n"
     ]
    },
    {
     "name": "stderr",
     "output_type": "stream",
     "text": [
      "127.0.0.1 - - [09/Mar/2024 05:02:26] \"OPTIONS /query HTTP/1.1\" 200 -\n"
     ]
    },
    {
     "name": "stdout",
     "output_type": "stream",
     "text": [
      "Hello! Welcome to the Wikipedia editing support chatbot.\n",
      "{'texte': 'hello', 'to_lang': 'en'}\n",
      "hello\n",
      "{'texte': 'Hello! Welcome to the Wikipedia editing support chatbot. How can I assist you today?', 'to_lang': 'nl'}\n"
     ]
    },
    {
     "name": "stderr",
     "output_type": "stream",
     "text": [
      "127.0.0.1 - - [09/Mar/2024 05:02:28] \"POST /query HTTP/1.1\" 200 -\n"
     ]
    },
    {
     "name": "stdout",
     "output_type": "stream",
     "text": [
      "Hallo!Welkom bij de Wikipedia Editing Support Chatbot.Hoe kan ik u vandaag helpen?\n"
     ]
    },
    {
     "name": "stderr",
     "output_type": "stream",
     "text": [
      "127.0.0.1 - - [09/Mar/2024 05:03:33] \"OPTIONS /query HTTP/1.1\" 200 -\n"
     ]
    },
    {
     "name": "stdout",
     "output_type": "stream",
     "text": [
      "Hello! Welcome to the Wikipedia editing support chatbot.\n",
      "{'texte': 'hello', 'to_lang': 'en'}\n",
      "hello\n",
      "{'texte': 'Hello! Welcome to the Wikipedia editing support chatbot. How can I assist you today?', 'to_lang': 'fi'}\n"
     ]
    },
    {
     "name": "stderr",
     "output_type": "stream",
     "text": [
      "127.0.0.1 - - [09/Mar/2024 05:03:35] \"POST /query HTTP/1.1\" 200 -\n"
     ]
    },
    {
     "name": "stdout",
     "output_type": "stream",
     "text": [
      "Hei!Tervetuloa Wikipedian editointiin tukikeskusteluun.Kuinka voin auttaa sinua tänään?\n"
     ]
    },
    {
     "name": "stderr",
     "output_type": "stream",
     "text": [
      "127.0.0.1 - - [09/Mar/2024 05:03:38] \"OPTIONS /query HTTP/1.1\" 200 -\n"
     ]
    },
    {
     "name": "stdout",
     "output_type": "stream",
     "text": [
      "Hello! Welcome to the Wikipedia editing support chatbot.\n",
      "{'texte': 'hii', 'to_lang': 'en'}\n",
      "This\n"
     ]
    },
    {
     "name": "stderr",
     "output_type": "stream",
     "text": [
      "127.0.0.1 - - [09/Mar/2024 05:03:40] \"POST /query HTTP/1.1\" 200 -\n"
     ]
    },
    {
     "name": "stdout",
     "output_type": "stream",
     "text": [
      "{'texte': None, 'to_lang': 'so'}\n",
      "Error: 'translation_data'\n"
     ]
    },
    {
     "name": "stderr",
     "output_type": "stream",
     "text": [
      "127.0.0.1 - - [09/Mar/2024 05:03:45] \"OPTIONS /query HTTP/1.1\" 200 -\n"
     ]
    },
    {
     "name": "stdout",
     "output_type": "stream",
     "text": [
      "Hello! Welcome to the Wikipedia editing support chatbot.\n"
     ]
    },
    {
     "name": "stderr",
     "output_type": "stream",
     "text": [
      "127.0.0.1 - - [09/Mar/2024 05:03:46] \"POST /query HTTP/1.1\" 200 -\n",
      "127.0.0.1 - - [09/Mar/2024 05:07:24] \"OPTIONS /query HTTP/1.1\" 200 -\n"
     ]
    },
    {
     "name": "stdout",
     "output_type": "stream",
     "text": [
      "Hello! Welcome to the Wikipedia editing support chatbot.\n"
     ]
    },
    {
     "name": "stderr",
     "output_type": "stream",
     "text": [
      "127.0.0.1 - - [09/Mar/2024 05:07:26] \"POST /query HTTP/1.1\" 200 -\n",
      "127.0.0.1 - - [09/Mar/2024 05:08:17] \"OPTIONS /query HTTP/1.1\" 200 -\n"
     ]
    },
    {
     "name": "stdout",
     "output_type": "stream",
     "text": [
      "Hello! Welcome to the Wikipedia editing support chatbot.\n",
      "{'texte': 'hey', 'to_lang': 'en'}\n",
      "hey\n",
      "{'texte': 'Hello! Welcome to the Wikipedia editing support chatbot. How can I assist you today?', 'to_lang': 'so'}\n"
     ]
    },
    {
     "name": "stderr",
     "output_type": "stream",
     "text": [
      "127.0.0.1 - - [09/Mar/2024 05:08:19] \"POST /query HTTP/1.1\" 200 -\n"
     ]
    },
    {
     "name": "stdout",
     "output_type": "stream",
     "text": [
      "Salaan!Ku soo dhawow Wikipedia tafatirka Taageerada Taageerada.Sideen kuu caawin karaa maanta?\n"
     ]
    },
    {
     "name": "stderr",
     "output_type": "stream",
     "text": [
      "127.0.0.1 - - [09/Mar/2024 05:13:15] \"OPTIONS /query HTTP/1.1\" 200 -\n"
     ]
    },
    {
     "name": "stdout",
     "output_type": "stream",
     "text": [
      "Hello! Welcome to the Wikipedia editing support chatbot.\n",
      "{'texte': 'hi', 'to_lang': 'en'}\n",
      "hi\n",
      "{'texte': 'Hello! Welcome to the Wikipedia editing support chatbot. How can I assist you today?', 'to_lang': 'sw'}\n"
     ]
    },
    {
     "name": "stderr",
     "output_type": "stream",
     "text": [
      "127.0.0.1 - - [09/Mar/2024 05:13:19] \"POST /query HTTP/1.1\" 200 -\n"
     ]
    },
    {
     "name": "stdout",
     "output_type": "stream",
     "text": [
      "Hello!Karibu kwenye Wikipedia Editing Msaada Chatbot.Ninawezaje kukusaidia leo?\n"
     ]
    },
    {
     "name": "stderr",
     "output_type": "stream",
     "text": [
      "127.0.0.1 - - [09/Mar/2024 05:13:33] \"OPTIONS /query HTTP/1.1\" 200 -\n"
     ]
    },
    {
     "name": "stdout",
     "output_type": "stream",
     "text": [
      "Hello! Welcome to the Wikipedia editing support chatbot.\n"
     ]
    },
    {
     "name": "stderr",
     "output_type": "stream",
     "text": [
      "127.0.0.1 - - [09/Mar/2024 05:13:34] \"POST /query HTTP/1.1\" 200 -\n",
      "127.0.0.1 - - [09/Mar/2024 05:13:49] \"OPTIONS /query HTTP/1.1\" 200 -\n"
     ]
    },
    {
     "name": "stdout",
     "output_type": "stream",
     "text": [
      "Hello! Welcome to the Wikipedia editing support chatbot.\n"
     ]
    },
    {
     "name": "stderr",
     "output_type": "stream",
     "text": [
      "127.0.0.1 - - [09/Mar/2024 05:13:50] \"POST /query HTTP/1.1\" 200 -\n",
      "127.0.0.1 - - [09/Mar/2024 05:13:56] \"OPTIONS /query HTTP/1.1\" 200 -\n"
     ]
    },
    {
     "name": "stdout",
     "output_type": "stream",
     "text": [
      "Hello! Welcome to the Wikipedia editing support chatbot.\n"
     ]
    },
    {
     "name": "stderr",
     "output_type": "stream",
     "text": [
      "127.0.0.1 - - [09/Mar/2024 05:13:57] \"POST /query HTTP/1.1\" 200 -\n"
     ]
    }
   ],
   "source": [
    "import json\n",
    "import spacy\n",
    "\n",
    "intents = json.loads(data_file)\n",
    "nlp = spacy.load('en_core_web_md')\n",
    "\n",
    "# Set up ngrok authentication and obtain public URL\n",
    "from pyngrok import ngrok \n",
    "ngrok.set_auth_token('2dQBXrnyOC0JCAXLXtBfGGMFGWA_2yj3NDBGtcdwqxVG9MgV1')\n",
    "public_url = ngrok.connect(5000).public_url\n",
    "print(public_url)\n",
    "\n",
    "# Function to determine intent based on user input\n",
    "def get_intent(user_input):\n",
    "    max_similarity = 0\n",
    "    intent_tag = None\n",
    "    for intent in intents['intents']:\n",
    "        for pattern in intent['patterns']:\n",
    "          if user_input!=None and pattern!=None:\n",
    "            similarity = calculate_similarity(user_input.lower(), pattern.lower())\n",
    "            if similarity > max_similarity:\n",
    "                max_similarity = similarity\n",
    "                intent_tag = intent['tag']\n",
    "\n",
    "    return intent_tag\n",
    "\n",
    "# Function to retrieve response based on intent tag\n",
    "def get_response(intent_tag):\n",
    "    for intent in intents['intents']:\n",
    "        if intent['tag'] == intent_tag:\n",
    "            response = intent['responses'][0]\n",
    "            return response\n",
    "\n",
    "# Function to initiate chatbot interaction\n",
    "def chat(user_input):\n",
    "    print(\"Hello! Welcome to the Wikipedia editing support chatbot.\")\n",
    "    while True:\n",
    "        if user_input.lower() == 'exit':\n",
    "            print(\"Goodbye! Don't hesitate to return if you need further assistance.\")\n",
    "            break\n",
    "\n",
    "        detected_lang = detect(user_input)\n",
    "\n",
    "        if detected_lang != 'en':\n",
    "            translated_input = translate_lang(user_input, \"en\")\n",
    "        else:\n",
    "            translated_input = user_input\n",
    "\n",
    "        intent_tag = get_intent(translated_input)\n",
    "        response = [get_response(intent_tag),intent_tag]\n",
    "\n",
    "        if response[0] == None:\n",
    "          translated_response = \"Sorry, I donot have an answer to that :(\"\n",
    "        if detected_lang != 'en':\n",
    "            translated_response = translate_lang(response[0], detected_lang)\n",
    "        else:\n",
    "            translated_response = response[0]\n",
    "\n",
    "        return [translated_response,intent_tag]\n",
    "\n",
    "\n",
    "# Flask application setup\n",
    "from flask import Flask, request, jsonify\n",
    "from flask_cors import CORS\n",
    "app = Flask(__name__)\n",
    "# app.secret_key = '2dQBXrnyOC0JCAXLXtBfGGMFGWA_2yj3NDBGtcdwqxVG9MgV1'\n",
    "# run_with_ngrok(app)# Run ngrok with the Flask app\n",
    "\n",
    "# Route to process user queries\n",
    "CORS(app)\n",
    "@app.route('/query', methods=['POST'])\n",
    "def process_query():\n",
    "    data = request.json\n",
    "    user_query = data['query']\n",
    "\n",
    "    # Process user query and generate response (replace with your chatbot logic)\n",
    "    response = chat(user_query)\n",
    "\n",
    "    return jsonify({'response': response})\n",
    "\n",
    "# Run Flask app\n",
    "if __name__ == '__main__':\n",
    "    app.run(port = 5000)"
   ]
  },
  {
   "cell_type": "code",
   "execution_count": null,
   "metadata": {},
   "outputs": [],
   "source": []
  },
  {
   "cell_type": "code",
   "execution_count": null,
   "metadata": {},
   "outputs": [],
   "source": []
  },
  {
   "cell_type": "code",
   "execution_count": null,
   "metadata": {},
   "outputs": [],
   "source": []
  }
 ],
 "metadata": {
  "colab": {
   "provenance": []
  },
  "kernelspec": {
   "display_name": "Python 3 (ipykernel)",
   "language": "python",
   "name": "python3"
  },
  "language_info": {
   "codemirror_mode": {
    "name": "ipython",
    "version": 3
   },
   "file_extension": ".py",
   "mimetype": "text/x-python",
   "name": "python",
   "nbconvert_exporter": "python",
   "pygments_lexer": "ipython3",
   "version": "3.10.12"
  }
 },
 "nbformat": 4,
 "nbformat_minor": 4
}
